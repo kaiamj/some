{
 "cells": [
  {
   "cell_type": "code",
   "execution_count": 2,
   "id": "8bf42138",
   "metadata": {},
   "outputs": [
    {
     "name": "stdout",
     "output_type": "stream",
     "text": [
      "Collecting PuLP\n",
      "  Downloading PuLP-2.6.0-py3-none-any.whl (14.2 MB)\n",
      "     --------------------------------------- 14.2/14.2 MB 78.9 kB/s eta 0:00:00\n",
      "Installing collected packages: PuLP\n",
      "Successfully installed PuLP-2.6.0\n"
     ]
    }
   ],
   "source": [
    "!pip install PuLP"
   ]
  },
  {
   "cell_type": "code",
   "execution_count": 1,
   "id": "5f1b11ac",
   "metadata": {},
   "outputs": [],
   "source": [
    "from pulp import *"
   ]
  },
  {
   "cell_type": "code",
   "execution_count": 53,
   "id": "eeae207a",
   "metadata": {},
   "outputs": [],
   "source": [
    "prob = LpProblem(\"maximize\", LpMaximize)"
   ]
  },
  {
   "cell_type": "code",
   "execution_count": 54,
   "id": "2beae1bb",
   "metadata": {},
   "outputs": [],
   "source": [
    "x = LpVariable(\"toyA\",0,None)"
   ]
  },
  {
   "cell_type": "code",
   "execution_count": 55,
   "id": "ffe8c9d9",
   "metadata": {},
   "outputs": [],
   "source": [
    "x2 =  LpVariable(\"toyB\",0,None)"
   ]
  },
  {
   "cell_type": "code",
   "execution_count": 56,
   "id": "1c0b4de1",
   "metadata": {},
   "outputs": [],
   "source": [
    "prob += 25*x +20*x2, \"maximize the profit\""
   ]
  },
  {
   "cell_type": "code",
   "execution_count": 57,
   "id": "66bc910e",
   "metadata": {},
   "outputs": [],
   "source": [
    "prob += 5*x +5*x2 <= 540 ,\"time\""
   ]
  },
  {
   "cell_type": "code",
   "execution_count": 58,
   "id": "83694aae",
   "metadata": {},
   "outputs": [],
   "source": [
    "prob += 20*x+12*x2 <= 2000 ,\"max no of units\""
   ]
  },
  {
   "cell_type": "code",
   "execution_count": 59,
   "id": "7e010745",
   "metadata": {},
   "outputs": [
    {
     "data": {
      "text/plain": [
       "[toyA, toyB]"
      ]
     },
     "execution_count": 59,
     "metadata": {},
     "output_type": "execute_result"
    }
   ],
   "source": [
    "prob.writeLP(\"toys.lp\")"
   ]
  },
  {
   "cell_type": "code",
   "execution_count": 60,
   "id": "d53e348d",
   "metadata": {},
   "outputs": [
    {
     "data": {
      "text/plain": [
       "1"
      ]
     },
     "execution_count": 60,
     "metadata": {},
     "output_type": "execute_result"
    }
   ],
   "source": [
    "prob.solve()"
   ]
  },
  {
   "cell_type": "code",
   "execution_count": 61,
   "id": "7cf55215",
   "metadata": {},
   "outputs": [
    {
     "name": "stdout",
     "output_type": "stream",
     "text": [
      "status: Optimal\n"
     ]
    }
   ],
   "source": [
    "print(\"status:\", LpStatus[prob.status])"
   ]
  },
  {
   "cell_type": "code",
   "execution_count": 62,
   "id": "5ce441f4",
   "metadata": {},
   "outputs": [
    {
     "name": "stdout",
     "output_type": "stream",
     "text": [
      "toyA = 88.0\n",
      "toyB = 20.0\n"
     ]
    }
   ],
   "source": [
    "for v in prob.variables():\n",
    "    print(v.name, \"=\", v.varValue)"
   ]
  },
  {
   "cell_type": "code",
   "execution_count": 63,
   "id": "8933cd57",
   "metadata": {},
   "outputs": [
    {
     "name": "stdout",
     "output_type": "stream",
     "text": [
      "Total toys that can be produced =  2600.0\n"
     ]
    }
   ],
   "source": [
    "print(\"Total toys that can be produced = \",value(prob.objective))"
   ]
  },
  {
   "cell_type": "markdown",
   "id": "c4c81565",
   "metadata": {},
   "source": [
    "## problem- 2-1"
   ]
  },
  {
   "cell_type": "code",
   "execution_count": 2,
   "id": "51039a58",
   "metadata": {},
   "outputs": [],
   "source": [
    "def initialize():\n",
    "    prob = LpProblem(\"ListVisit_1\", LpMaximize)\n",
    "    TE = LpVariable(\"TE\",0,1,LpInteger)\n",
    "    ML =  LpVariable(\"ML\",0,1,LpInteger)\n",
    "    AT =  LpVariable(\"AT\",0,1,LpInteger)\n",
    "    MO =  LpVariable(\"MO\",0,1,LpInteger)\n",
    "    JT =  LpVariable(\"JT\",0,1,LpInteger)\n",
    "    CA =  LpVariable(\"CA\",0,1,LpInteger)\n",
    "    CP =  LpVariable(\"CP\",0,1,LpInteger)\n",
    "    CN =  LpVariable(\"CN\",0,1,LpInteger)\n",
    "    BS =  LpVariable(\"BS\",0,1,LpInteger)\n",
    "    SC =  LpVariable(\"SC\",0,1,LpInteger)\n",
    "    PC =  LpVariable(\"PC\",0,1,LpInteger)\n",
    "    TM =  LpVariable(\"TM\",0,1,LpInteger)\n",
    "    AC =  LpVariable(\"AC\",0,1,LpInteger)\n",
    "    \n",
    "    return prob,TE, ML, AT, MO, JT, CA, CP, CN,BS,SC,PC,TM, AC"
   ]
  },
  {
   "cell_type": "code",
   "execution_count": 3,
   "id": "4777b205",
   "metadata": {},
   "outputs": [],
   "source": [
    "def eq(prob,TE, ML, AT, MO, JT, CA, CP, CN,BS,SC,PC,TM, AC):\n",
    "    prob += TE + ML + AT +MO + JT +CA +CP+CN+BS+SC+PC+TM+AC\n",
    "    prob += 9/2*TE + 3*ML + AT +2*MO + 3/2*JT +2*CA +5/2*CP+2*CN+2*BS+3/2*SC+3/4*PC+2*TM+3/2*AC <= 12\n",
    "    prob += 15.50*TE + 12*ML + 9.50*AT +11*MO + 0*JT +10*CA +10*CP+5*CN+8*BS+ 8.50*SC+ 0*PC+ 15*TM+ 0*AC <= 65\n",
    "\n",
    "    return prob"
   ]
  },
  {
   "cell_type": "code",
   "execution_count": 4,
   "id": "f0ec855f",
   "metadata": {},
   "outputs": [],
   "source": [
    "def solve(name, prob):\n",
    "    prob.writeLP(name)\n",
    "    prob.solve()\n",
    "    print(\"status:\", LpStatus[prob.status])\n",
    "    l = {}\n",
    "    for v in prob.variables():\n",
    "    #print(v.name, \"=\", v.varValue)\n",
    "        l[v.name] = v.varValue\n",
    "    print(\"Total places visited = \",value(prob.objective))\n",
    "    return l"
   ]
  },
  {
   "cell_type": "code",
   "execution_count": 5,
   "id": "133f98fd",
   "metadata": {},
   "outputs": [
    {
     "name": "stdout",
     "output_type": "stream",
     "text": [
      "status: Optimal\n",
      "Total places visited =  7.0\n"
     ]
    },
    {
     "data": {
      "text/plain": [
       "{'AC': 1.0,\n",
       " 'AT': 1.0,\n",
       " 'BS': 1.0,\n",
       " 'CA': 1.0,\n",
       " 'CN': 1.0,\n",
       " 'CP': 0.0,\n",
       " 'JT': 0.0,\n",
       " 'ML': 0.0,\n",
       " 'MO': 0.0,\n",
       " 'PC': 1.0,\n",
       " 'SC': 1.0,\n",
       " 'TE': 0.0,\n",
       " 'TM': 0.0}"
      ]
     },
     "execution_count": 5,
     "metadata": {},
     "output_type": "execute_result"
    }
   ],
   "source": [
    "prob,TE, ML, AT, MO, JT, CA, CP, CN,BS,SC,PC,TM, AC = initialize()\n",
    "\n",
    "#JT.lowBound = 1 \n",
    "#prob += JT>=1, \"changing lowerbound of JT\"\n",
    "prob = eq(prob,TE, ML, AT, MO, JT, CA, CP, CN,BS,SC,PC,TM, AC)\n",
    "solve(\"levist.lp\",prob)"
   ]
  },
  {
   "cell_type": "code",
   "execution_count": null,
   "id": "a68e3283",
   "metadata": {},
   "outputs": [],
   "source": []
  },
  {
   "cell_type": "markdown",
   "id": "4076c431",
   "metadata": {},
   "source": [
    "## problem 2-2"
   ]
  },
  {
   "cell_type": "markdown",
   "id": "7a27df57",
   "metadata": {},
   "source": [
    "## 2-2 - a"
   ]
  },
  {
   "cell_type": "code",
   "execution_count": 6,
   "id": "0e1f8178",
   "metadata": {},
   "outputs": [],
   "source": [
    "import pandas as pd"
   ]
  },
  {
   "cell_type": "code",
   "execution_count": 7,
   "id": "735c945c",
   "metadata": {},
   "outputs": [],
   "source": [
    "excel = pd.read_excel('sites_matrix.xlsx',header = None)\n",
    "df = pd.DataFrame(excel)"
   ]
  },
  {
   "cell_type": "code",
   "execution_count": 8,
   "id": "547e108c",
   "metadata": {
    "scrolled": true
   },
   "outputs": [
    {
     "data": {
      "text/html": [
       "<div>\n",
       "<style scoped>\n",
       "    .dataframe tbody tr th:only-of-type {\n",
       "        vertical-align: middle;\n",
       "    }\n",
       "\n",
       "    .dataframe tbody tr th {\n",
       "        vertical-align: top;\n",
       "    }\n",
       "\n",
       "    .dataframe thead th {\n",
       "        text-align: right;\n",
       "    }\n",
       "</style>\n",
       "<table border=\"1\" class=\"dataframe\">\n",
       "  <thead>\n",
       "    <tr style=\"text-align: right;\">\n",
       "      <th></th>\n",
       "      <th>0</th>\n",
       "      <th>1</th>\n",
       "      <th>2</th>\n",
       "      <th>3</th>\n",
       "      <th>4</th>\n",
       "      <th>5</th>\n",
       "      <th>6</th>\n",
       "      <th>7</th>\n",
       "      <th>8</th>\n",
       "      <th>9</th>\n",
       "      <th>10</th>\n",
       "      <th>11</th>\n",
       "      <th>12</th>\n",
       "      <th>13</th>\n",
       "    </tr>\n",
       "  </thead>\n",
       "  <tbody>\n",
       "    <tr>\n",
       "      <th>0</th>\n",
       "      <td>sites</td>\n",
       "      <td>TE</td>\n",
       "      <td>ML</td>\n",
       "      <td>AT</td>\n",
       "      <td>MO</td>\n",
       "      <td>JT</td>\n",
       "      <td>CA</td>\n",
       "      <td>CP</td>\n",
       "      <td>CN</td>\n",
       "      <td>BS</td>\n",
       "      <td>SC</td>\n",
       "      <td>PC</td>\n",
       "      <td>TM</td>\n",
       "      <td>AC</td>\n",
       "    </tr>\n",
       "    <tr>\n",
       "      <th>1</th>\n",
       "      <td>TE</td>\n",
       "      <td>0</td>\n",
       "      <td>3.8</td>\n",
       "      <td>2.1</td>\n",
       "      <td>2.4</td>\n",
       "      <td>3.5</td>\n",
       "      <td>4.2</td>\n",
       "      <td>5</td>\n",
       "      <td>4.4</td>\n",
       "      <td>5.5</td>\n",
       "      <td>4.2</td>\n",
       "      <td>2.5</td>\n",
       "      <td>3.1</td>\n",
       "      <td>1.9</td>\n",
       "    </tr>\n",
       "    <tr>\n",
       "      <th>2</th>\n",
       "      <td>ML</td>\n",
       "      <td>NaN</td>\n",
       "      <td>0</td>\n",
       "      <td>3.8</td>\n",
       "      <td>1.1</td>\n",
       "      <td>1.3</td>\n",
       "      <td>3.3</td>\n",
       "      <td>1.3</td>\n",
       "      <td>1.1</td>\n",
       "      <td>3.4</td>\n",
       "      <td>0.8</td>\n",
       "      <td>1.7</td>\n",
       "      <td>2.5</td>\n",
       "      <td>2.8</td>\n",
       "    </tr>\n",
       "    <tr>\n",
       "      <th>3</th>\n",
       "      <td>AT</td>\n",
       "      <td>NaN</td>\n",
       "      <td>NaN</td>\n",
       "      <td>0</td>\n",
       "      <td>3.1</td>\n",
       "      <td>3</td>\n",
       "      <td>5.8</td>\n",
       "      <td>4.8</td>\n",
       "      <td>4.9</td>\n",
       "      <td>4.3</td>\n",
       "      <td>4.6</td>\n",
       "      <td>2.2</td>\n",
       "      <td>4.4</td>\n",
       "      <td>1</td>\n",
       "    </tr>\n",
       "    <tr>\n",
       "      <th>4</th>\n",
       "      <td>MO</td>\n",
       "      <td>NaN</td>\n",
       "      <td>NaN</td>\n",
       "      <td>NaN</td>\n",
       "      <td>0</td>\n",
       "      <td>0.9</td>\n",
       "      <td>3.1</td>\n",
       "      <td>2.5</td>\n",
       "      <td>2</td>\n",
       "      <td>3.9</td>\n",
       "      <td>1.8</td>\n",
       "      <td>1</td>\n",
       "      <td>2.3</td>\n",
       "      <td>2.1</td>\n",
       "    </tr>\n",
       "    <tr>\n",
       "      <th>5</th>\n",
       "      <td>JT</td>\n",
       "      <td>NaN</td>\n",
       "      <td>NaN</td>\n",
       "      <td>NaN</td>\n",
       "      <td>NaN</td>\n",
       "      <td>0</td>\n",
       "      <td>4.2</td>\n",
       "      <td>2</td>\n",
       "      <td>2.4</td>\n",
       "      <td>2.7</td>\n",
       "      <td>2</td>\n",
       "      <td>1</td>\n",
       "      <td>3.4</td>\n",
       "      <td>2.1</td>\n",
       "    </tr>\n",
       "    <tr>\n",
       "      <th>6</th>\n",
       "      <td>CA</td>\n",
       "      <td>NaN</td>\n",
       "      <td>NaN</td>\n",
       "      <td>NaN</td>\n",
       "      <td>NaN</td>\n",
       "      <td>NaN</td>\n",
       "      <td>0</td>\n",
       "      <td>3.5</td>\n",
       "      <td>2.7</td>\n",
       "      <td>6.5</td>\n",
       "      <td>2.6</td>\n",
       "      <td>2.8</td>\n",
       "      <td>1.3</td>\n",
       "      <td>4.9</td>\n",
       "    </tr>\n",
       "    <tr>\n",
       "      <th>7</th>\n",
       "      <td>CP</td>\n",
       "      <td>NaN</td>\n",
       "      <td>NaN</td>\n",
       "      <td>NaN</td>\n",
       "      <td>NaN</td>\n",
       "      <td>NaN</td>\n",
       "      <td>NaN</td>\n",
       "      <td>0</td>\n",
       "      <td>0.85</td>\n",
       "      <td>3.7</td>\n",
       "      <td>0.9</td>\n",
       "      <td>2.7</td>\n",
       "      <td>3.4</td>\n",
       "      <td>3.8</td>\n",
       "    </tr>\n",
       "    <tr>\n",
       "      <th>8</th>\n",
       "      <td>CN</td>\n",
       "      <td>NaN</td>\n",
       "      <td>NaN</td>\n",
       "      <td>NaN</td>\n",
       "      <td>NaN</td>\n",
       "      <td>NaN</td>\n",
       "      <td>NaN</td>\n",
       "      <td>NaN</td>\n",
       "      <td>0</td>\n",
       "      <td>4.5</td>\n",
       "      <td>0.4</td>\n",
       "      <td>2.8</td>\n",
       "      <td>2.7</td>\n",
       "      <td>3.9</td>\n",
       "    </tr>\n",
       "    <tr>\n",
       "      <th>9</th>\n",
       "      <td>BS</td>\n",
       "      <td>NaN</td>\n",
       "      <td>NaN</td>\n",
       "      <td>NaN</td>\n",
       "      <td>NaN</td>\n",
       "      <td>NaN</td>\n",
       "      <td>NaN</td>\n",
       "      <td>NaN</td>\n",
       "      <td>NaN</td>\n",
       "      <td>0</td>\n",
       "      <td>4.2</td>\n",
       "      <td>3.3</td>\n",
       "      <td>5.7</td>\n",
       "      <td>3.8</td>\n",
       "    </tr>\n",
       "    <tr>\n",
       "      <th>10</th>\n",
       "      <td>SC</td>\n",
       "      <td>NaN</td>\n",
       "      <td>NaN</td>\n",
       "      <td>NaN</td>\n",
       "      <td>NaN</td>\n",
       "      <td>NaN</td>\n",
       "      <td>NaN</td>\n",
       "      <td>NaN</td>\n",
       "      <td>NaN</td>\n",
       "      <td>NaN</td>\n",
       "      <td>0</td>\n",
       "      <td>2.5</td>\n",
       "      <td>2.6</td>\n",
       "      <td>3.6</td>\n",
       "    </tr>\n",
       "    <tr>\n",
       "      <th>11</th>\n",
       "      <td>PC</td>\n",
       "      <td>NaN</td>\n",
       "      <td>NaN</td>\n",
       "      <td>NaN</td>\n",
       "      <td>NaN</td>\n",
       "      <td>NaN</td>\n",
       "      <td>NaN</td>\n",
       "      <td>NaN</td>\n",
       "      <td>NaN</td>\n",
       "      <td>NaN</td>\n",
       "      <td>NaN</td>\n",
       "      <td>0</td>\n",
       "      <td>3</td>\n",
       "      <td>1.2</td>\n",
       "    </tr>\n",
       "    <tr>\n",
       "      <th>12</th>\n",
       "      <td>TM</td>\n",
       "      <td>NaN</td>\n",
       "      <td>NaN</td>\n",
       "      <td>NaN</td>\n",
       "      <td>NaN</td>\n",
       "      <td>NaN</td>\n",
       "      <td>NaN</td>\n",
       "      <td>NaN</td>\n",
       "      <td>NaN</td>\n",
       "      <td>NaN</td>\n",
       "      <td>NaN</td>\n",
       "      <td>NaN</td>\n",
       "      <td>0</td>\n",
       "      <td>2.1</td>\n",
       "    </tr>\n",
       "    <tr>\n",
       "      <th>13</th>\n",
       "      <td>AC</td>\n",
       "      <td>NaN</td>\n",
       "      <td>NaN</td>\n",
       "      <td>NaN</td>\n",
       "      <td>NaN</td>\n",
       "      <td>NaN</td>\n",
       "      <td>NaN</td>\n",
       "      <td>NaN</td>\n",
       "      <td>NaN</td>\n",
       "      <td>NaN</td>\n",
       "      <td>NaN</td>\n",
       "      <td>NaN</td>\n",
       "      <td>NaN</td>\n",
       "      <td>0</td>\n",
       "    </tr>\n",
       "  </tbody>\n",
       "</table>\n",
       "</div>"
      ],
      "text/plain": [
       "       0    1    2    3    4    5    6    7     8    9    10   11   12   13\n",
       "0   sites   TE   ML   AT   MO   JT   CA   CP    CN   BS   SC   PC   TM   AC\n",
       "1      TE    0  3.8  2.1  2.4  3.5  4.2    5   4.4  5.5  4.2  2.5  3.1  1.9\n",
       "2      ML  NaN    0  3.8  1.1  1.3  3.3  1.3   1.1  3.4  0.8  1.7  2.5  2.8\n",
       "3      AT  NaN  NaN    0  3.1    3  5.8  4.8   4.9  4.3  4.6  2.2  4.4    1\n",
       "4      MO  NaN  NaN  NaN    0  0.9  3.1  2.5     2  3.9  1.8    1  2.3  2.1\n",
       "5      JT  NaN  NaN  NaN  NaN    0  4.2    2   2.4  2.7    2    1  3.4  2.1\n",
       "6      CA  NaN  NaN  NaN  NaN  NaN    0  3.5   2.7  6.5  2.6  2.8  1.3  4.9\n",
       "7      CP  NaN  NaN  NaN  NaN  NaN  NaN    0  0.85  3.7  0.9  2.7  3.4  3.8\n",
       "8      CN  NaN  NaN  NaN  NaN  NaN  NaN  NaN     0  4.5  0.4  2.8  2.7  3.9\n",
       "9      BS  NaN  NaN  NaN  NaN  NaN  NaN  NaN   NaN    0  4.2  3.3  5.7  3.8\n",
       "10     SC  NaN  NaN  NaN  NaN  NaN  NaN  NaN   NaN  NaN    0  2.5  2.6  3.6\n",
       "11     PC  NaN  NaN  NaN  NaN  NaN  NaN  NaN   NaN  NaN  NaN    0    3  1.2\n",
       "12     TM  NaN  NaN  NaN  NaN  NaN  NaN  NaN   NaN  NaN  NaN  NaN    0  2.1\n",
       "13     AC  NaN  NaN  NaN  NaN  NaN  NaN  NaN   NaN  NaN  NaN  NaN  NaN    0"
      ]
     },
     "execution_count": 8,
     "metadata": {},
     "output_type": "execute_result"
    }
   ],
   "source": [
    "df"
   ]
  },
  {
   "cell_type": "code",
   "execution_count": 32,
   "id": "99394410",
   "metadata": {},
   "outputs": [],
   "source": [
    "\n",
    "def pref_1(df,prob,TE, ML, AT, MO, JT, CA, CP, CN,BS,SC,PC,TM, AC):\n",
    "    for i in range(1,len(df)):\n",
    "        for j in range(i+1, len(df)):\n",
    "            \n",
    "            if df.iloc[i,j] <= 1: # distance b/w within one kilometer\n",
    "                #print(df.iloc[i,j],\"i  \",i,\" j \",j)\n",
    "                #print(df.iloc[0,i],df.iloc[j,0] )\n",
    "              \n",
    "                if str(df.iloc[0,i]) == str(ML) and str(df.iloc[j,0]) == str(SC):\n",
    "                    prob += ML == SC, \"ML, SC \"\n",
    "                   \n",
    "                    \n",
    "                elif str(df.iloc[0,i]) == str(AT) and str(df.iloc[j,0]) == str(AC):\n",
    "                    prob += AT == AC, \" AT, AC \"\n",
    "                    \n",
    "                    \n",
    "                elif str(df.iloc[0,i]) == str(MO) and str(df.iloc[j,0]) == str(JT):\n",
    "                    prob += MO == JT, \" MO, JT \"\n",
    "                    \n",
    "                    \n",
    "                elif str(df.iloc[0,i]) == str(MO) and str(df.iloc[j,0]) == str(PC):\n",
    "                    prob += MO == PC, \" MO, PC\"\n",
    "                    \n",
    "                \n",
    "                    \n",
    "                elif str(df.iloc[0,i]) == str(CP) and str(df.iloc[j,0]) == str(CN):\n",
    "                    prob += CP == CN, \" CP, CN\"\n",
    "                    \n",
    "                    \n",
    "                   \n",
    "                elif str(df.iloc[0,i]) == str(CP) and str(df.iloc[j,0]) == str(SC):\n",
    "                    prob += CP == SC ,\" CP, SC\"\n",
    "                    \n",
    "                   \n",
    "                    \n",
    "                elif str(df.iloc[0,i]) == str(CN) and str(df.iloc[j,0]) == str(SC):\n",
    "                    prob += CN == SC, \"CN, SC\"\n",
    "                    \n",
    "                    \n",
    "                    \n",
    "                #print(df.iloc[0,i], \"yes\",CN)\n",
    "                #df.iloc[0,i].lowBound = 1  #LpVariable(str(df.iloc[0,i]),1,1,LpInteger)\n",
    "                #ML SC, MO JT, CP CN, CP SC, CN SC\n",
    "                #df.iloc[j,0].lowBound = 1 \n",
    "                #prob += df.iloc[0,i] == df.iloc[j,0]\n",
    "    return prob,TE, ML, AT, MO, JT, CA, CP, CN,BS,SC,PC,TM, AC\n",
    "                #print(df.iloc[0,i]) # head\n",
    "                #print(df.iloc[i,0]) # col"
   ]
  },
  {
   "cell_type": "code",
   "execution_count": 33,
   "id": "eac7c9d3",
   "metadata": {},
   "outputs": [],
   "source": [
    "def preference_1():\n",
    "    prob,TE, ML, AT, MO, JT, CA, CP, CN,BS,SC,PC,TM, AC = initialize()\n",
    "\n",
    "    prob,TE, ML, AT, MO, JT, CA, CP, CN,BS,SC,PC,TM, AC= pref_1(df,prob,TE, ML, AT, MO, JT, CA, CP, CN,BS,SC,PC,TM, AC)\n",
    "\n",
    "    prob = eq(prob,TE, ML, AT, MO, JT, CA, CP, CN,BS,SC,PC,TM, AC)\n",
    "    return solve(\"pref1.lp\",prob)"
   ]
  },
  {
   "cell_type": "code",
   "execution_count": 34,
   "id": "febae531",
   "metadata": {},
   "outputs": [],
   "source": [
    "def pref_2(TE,CA):\n",
    "    TE.lowBound = 1 \n",
    "    CA.lowBound = 1 \n",
    "    return TE,CA\n",
    "    "
   ]
  },
  {
   "cell_type": "code",
   "execution_count": 35,
   "id": "a3835f90",
   "metadata": {},
   "outputs": [],
   "source": [
    "def preference_2():\n",
    "    prob,TE, ML, AT, MO, JT, CA, CP, CN,BS,SC,PC,TM, AC = initialize()\n",
    "\n",
    "    TE,CA = pref_2(TE,CA)\n",
    "   \n",
    "    prob = eq(prob,TE, ML, AT, MO, JT, CA, CP, CN,BS,SC,PC,TM, AC)\n",
    "    return solve(\"pref2.lp\",prob)"
   ]
  },
  {
   "cell_type": "code",
   "execution_count": null,
   "id": "e6d27a56",
   "metadata": {},
   "outputs": [],
   "source": []
  },
  {
   "cell_type": "code",
   "execution_count": null,
   "id": "7f03978b",
   "metadata": {},
   "outputs": [],
   "source": []
  },
  {
   "cell_type": "code",
   "execution_count": 21,
   "id": "17c0e3b1",
   "metadata": {},
   "outputs": [],
   "source": [
    "def pref_3(prob,CN,SC):\n",
    "    prob += CN-SC >= 1\n",
    "    \n",
    "    return prob\n",
    "    "
   ]
  },
  {
   "cell_type": "code",
   "execution_count": 22,
   "id": "6ef691d9",
   "metadata": {},
   "outputs": [],
   "source": [
    "def preference_3():\n",
    "    prob,TE, ML, AT, MO, JT, CA, CP, CN,BS,SC,PC,TM, AC = initialize()\n",
    "\n",
    "    prob = pref_3(prob,CN,SC)\n",
    "    \n",
    "    prob = eq(prob,TE, ML, AT, MO, JT, CA, CP, CN,BS,SC,PC,TM, AC)\n",
    "    return solve(\"pref2.lp\",prob)"
   ]
  },
  {
   "cell_type": "code",
   "execution_count": 592,
   "id": "b313d2c2",
   "metadata": {},
   "outputs": [
    {
     "name": "stdout",
     "output_type": "stream",
     "text": [
      "status: Optimal\n",
      "Total places visited =  7.0\n"
     ]
    },
    {
     "data": {
      "text/plain": [
       "{'AC': 1.0,\n",
       " 'AT': 1.0,\n",
       " 'BS': 1.0,\n",
       " 'CA': 1.0,\n",
       " 'CN': 1.0,\n",
       " 'CP': 0.0,\n",
       " 'JT': 0.0,\n",
       " 'ML': 0.0,\n",
       " 'MO': 1.0,\n",
       " 'PC': 1.0,\n",
       " 'SC': 0.0,\n",
       " 'TE': 0.0,\n",
       " 'TM': 0.0}"
      ]
     },
     "execution_count": 592,
     "metadata": {},
     "output_type": "execute_result"
    }
   ],
   "source": [
    "preference_3()"
   ]
  },
  {
   "cell_type": "code",
   "execution_count": 36,
   "id": "57daed8a",
   "metadata": {},
   "outputs": [],
   "source": [
    "def pref_4(TM):\n",
    "    TM.lowBound = 1\n",
    "    return TM"
   ]
  },
  {
   "cell_type": "code",
   "execution_count": 37,
   "id": "3fc6a74a",
   "metadata": {},
   "outputs": [],
   "source": [
    "def preference_4():\n",
    "    prob,TE, ML, AT, MO, JT, CA, CP, CN,BS,SC,PC,TM, AC = initialize()\n",
    "\n",
    "    TM = pref_4(TM)\n",
    "\n",
    "    prob = eq(prob,TE, ML, AT, MO, JT, CA, CP, CN,BS,SC,PC,TM, AC)\n",
    "    return solve(\"pref4.lp\",prob)\n",
    "     "
   ]
  },
  {
   "cell_type": "code",
   "execution_count": 29,
   "id": "d9ba0e60",
   "metadata": {},
   "outputs": [],
   "source": [
    "def pref_5(prob,ML,CP):\n",
    "    prob += ML-CP <= 0\n",
    "    \n",
    "    return prob\n",
    "    "
   ]
  },
  {
   "cell_type": "code",
   "execution_count": 30,
   "id": "582144cc",
   "metadata": {},
   "outputs": [],
   "source": [
    "def preference_5():\n",
    "    prob,TE, ML, AT, MO, JT, CA, CP, CN,BS,SC,PC,TM, AC = initialize()\n",
    "\n",
    "    prob = pref_5(prob,ML,CP)\n",
    "    \n",
    "    prob = eq(prob,TE, ML, AT, MO, JT, CA, CP, CN,BS,SC,PC,TM, AC)\n",
    "    return solve(\"pref2.lp\",prob)"
   ]
  },
  {
   "cell_type": "code",
   "execution_count": 31,
   "id": "4b044585",
   "metadata": {},
   "outputs": [
    {
     "name": "stdout",
     "output_type": "stream",
     "text": [
      "status: Optimal\n",
      "Total places visited =  7.0\n"
     ]
    },
    {
     "data": {
      "text/plain": [
       "{'AC': 1.0,\n",
       " 'AT': 1.0,\n",
       " 'BS': 1.0,\n",
       " 'CA': 1.0,\n",
       " 'CN': 1.0,\n",
       " 'CP': 0.0,\n",
       " 'JT': 0.0,\n",
       " 'ML': 0.0,\n",
       " 'MO': 0.0,\n",
       " 'PC': 1.0,\n",
       " 'SC': 1.0,\n",
       " 'TE': 0.0,\n",
       " 'TM': 0.0}"
      ]
     },
     "execution_count": 31,
     "metadata": {},
     "output_type": "execute_result"
    }
   ],
   "source": [
    "preference_5()"
   ]
  },
  {
   "cell_type": "markdown",
   "id": "f5947f80",
   "metadata": {},
   "source": []
  },
  {
   "cell_type": "code",
   "execution_count": 38,
   "id": "12704741",
   "metadata": {},
   "outputs": [
    {
     "name": "stdout",
     "output_type": "stream",
     "text": [
      "status: Optimal\n",
      "Total places visited =  7.0\n",
      "status: Optimal\n",
      "Total places visited =  6.0\n",
      "status: Optimal\n",
      "Total places visited =  7.0\n",
      "status: Optimal\n",
      "Total places visited =  7.0\n",
      "status: Optimal\n",
      "Total places visited =  7.0\n"
     ]
    }
   ],
   "source": [
    "p1 = preference_1()\n",
    "p2 = preference_2()\n",
    "p3 = preference_3()\n",
    "p4 = preference_4()\n",
    "p5 = preference_5()"
   ]
  },
  {
   "cell_type": "markdown",
   "id": "8c83bdcc",
   "metadata": {},
   "source": [
    "## 2-2b"
   ]
  },
  {
   "cell_type": "code",
   "execution_count": 46,
   "id": "32d0bb52",
   "metadata": {
    "scrolled": true
   },
   "outputs": [
    {
     "data": {
      "text/plain": [
       "{'AC': 1.0,\n",
       " 'AT': 1.0,\n",
       " 'BS': 0.0,\n",
       " 'CA': 1.0,\n",
       " 'CN': 0.0,\n",
       " 'CP': 0.0,\n",
       " 'JT': 0.0,\n",
       " 'ML': 0.0,\n",
       " 'MO': 0.0,\n",
       " 'PC': 1.0,\n",
       " 'SC': 0.0,\n",
       " 'TE': 0.0,\n",
       " 'TM': 0.0}"
      ]
     },
     "execution_count": 46,
     "metadata": {},
     "output_type": "execute_result"
    }
   ],
   "source": [
    "{key : p1[key] * p2[key] for key in p1}"
   ]
  },
  {
   "cell_type": "code",
   "execution_count": null,
   "id": "e1ed6253",
   "metadata": {},
   "outputs": [],
   "source": []
  },
  {
   "cell_type": "markdown",
   "id": "1760076f",
   "metadata": {},
   "source": [
    "## 2-2c"
   ]
  },
  {
   "cell_type": "code",
   "execution_count": 47,
   "id": "fa334810",
   "metadata": {
    "scrolled": true
   },
   "outputs": [
    {
     "data": {
      "text/plain": [
       "{'AC': 1.0,\n",
       " 'AT': 1.0,\n",
       " 'BS': 0.0,\n",
       " 'CA': 1.0,\n",
       " 'CN': 0.0,\n",
       " 'CP': 0.0,\n",
       " 'JT': 0.0,\n",
       " 'ML': 0.0,\n",
       " 'MO': 1.0,\n",
       " 'PC': 1.0,\n",
       " 'SC': 0.0,\n",
       " 'TE': 0.0,\n",
       " 'TM': 0.0}"
      ]
     },
     "execution_count": 47,
     "metadata": {},
     "output_type": "execute_result"
    }
   ],
   "source": [
    "{key : p1[key] * p3[key] for key in p1}"
   ]
  },
  {
   "cell_type": "markdown",
   "id": "a7bec2fc",
   "metadata": {},
   "source": [
    "## 2-2d"
   ]
  },
  {
   "cell_type": "code",
   "execution_count": 48,
   "id": "c30203fe",
   "metadata": {
    "scrolled": true
   },
   "outputs": [
    {
     "data": {
      "text/plain": [
       "{'AC': 1.0,\n",
       " 'AT': 1.0,\n",
       " 'BS': 0.0,\n",
       " 'CA': 0.0,\n",
       " 'CN': 0.0,\n",
       " 'CP': 0.0,\n",
       " 'JT': 0.0,\n",
       " 'ML': 0.0,\n",
       " 'MO': 0.0,\n",
       " 'PC': 1.0,\n",
       " 'SC': 0.0,\n",
       " 'TE': 0.0,\n",
       " 'TM': 1.0}"
      ]
     },
     "execution_count": 48,
     "metadata": {},
     "output_type": "execute_result"
    }
   ],
   "source": [
    "{key : p1[key] * p4[key] for key in p1}"
   ]
  },
  {
   "cell_type": "markdown",
   "id": "805f83e5",
   "metadata": {},
   "source": [
    "## 2-2e"
   ]
  },
  {
   "cell_type": "code",
   "execution_count": 49,
   "id": "3c1deb47",
   "metadata": {
    "scrolled": true
   },
   "outputs": [
    {
     "data": {
      "text/plain": [
       "{'AC': 1.0,\n",
       " 'AT': 1.0,\n",
       " 'BS': 0.0,\n",
       " 'CA': 1.0,\n",
       " 'CN': 0.0,\n",
       " 'CP': 0.0,\n",
       " 'JT': 0.0,\n",
       " 'ML': 0.0,\n",
       " 'MO': 0.0,\n",
       " 'PC': 1.0,\n",
       " 'SC': 1.0,\n",
       " 'TE': 0.0,\n",
       " 'TM': 0.0}"
      ]
     },
     "execution_count": 49,
     "metadata": {},
     "output_type": "execute_result"
    }
   ],
   "source": [
    "{key : p2[key] * p5[key] for key in p2}"
   ]
  },
  {
   "cell_type": "markdown",
   "id": "44246ee3",
   "metadata": {},
   "source": [
    "## 2-2f"
   ]
  },
  {
   "cell_type": "code",
   "execution_count": 50,
   "id": "f835a385",
   "metadata": {
    "scrolled": true
   },
   "outputs": [
    {
     "data": {
      "text/plain": [
       "{'AC': 1.0,\n",
       " 'AT': 1.0,\n",
       " 'BS': 1.0,\n",
       " 'CA': 0.0,\n",
       " 'CN': 1.0,\n",
       " 'CP': 0.0,\n",
       " 'JT': 0.0,\n",
       " 'ML': 0.0,\n",
       " 'MO': 0.0,\n",
       " 'PC': 1.0,\n",
       " 'SC': 0.0,\n",
       " 'TE': 0.0,\n",
       " 'TM': 0.0}"
      ]
     },
     "execution_count": 50,
     "metadata": {},
     "output_type": "execute_result"
    }
   ],
   "source": [
    "{key : p3[key] * p4[key] for key in p3}"
   ]
  },
  {
   "cell_type": "markdown",
   "id": "2e8cd576",
   "metadata": {},
   "source": [
    "## 2-2g"
   ]
  },
  {
   "cell_type": "code",
   "execution_count": 51,
   "id": "21c3c0c1",
   "metadata": {
    "scrolled": true
   },
   "outputs": [
    {
     "data": {
      "text/plain": [
       "{'AC': 1.0,\n",
       " 'AT': 1.0,\n",
       " 'BS': 1.0,\n",
       " 'CA': 0.0,\n",
       " 'CN': 1.0,\n",
       " 'CP': 0.0,\n",
       " 'JT': 0.0,\n",
       " 'ML': 0.0,\n",
       " 'MO': 0.0,\n",
       " 'PC': 1.0,\n",
       " 'SC': 1.0,\n",
       " 'TE': 0.0,\n",
       " 'TM': 0.0}"
      ]
     },
     "execution_count": 51,
     "metadata": {},
     "output_type": "execute_result"
    }
   ],
   "source": [
    "{key : p4[key] * p5[key] for key in p4}"
   ]
  },
  {
   "cell_type": "markdown",
   "id": "58c78925",
   "metadata": {},
   "source": [
    "## 2-2h"
   ]
  },
  {
   "cell_type": "code",
   "execution_count": 52,
   "id": "7a02c061",
   "metadata": {
    "scrolled": true
   },
   "outputs": [
    {
     "data": {
      "text/plain": [
       "{'AC': 1.0,\n",
       " 'AT': 1.0,\n",
       " 'BS': 0.0,\n",
       " 'CA': 0.0,\n",
       " 'CN': 0.0,\n",
       " 'CP': 0.0,\n",
       " 'JT': 0.0,\n",
       " 'ML': 0.0,\n",
       " 'MO': 0.0,\n",
       " 'PC': 1.0,\n",
       " 'SC': 0.0,\n",
       " 'TE': 0.0,\n",
       " 'TM': 0.0}"
      ]
     },
     "execution_count": 52,
     "metadata": {},
     "output_type": "execute_result"
    }
   ],
   "source": [
    "{key : p1[key] * p2[key] * p4[key] for key in p1}"
   ]
  },
  {
   "cell_type": "markdown",
   "id": "494fb0ad",
   "metadata": {},
   "source": [
    "## 2-2i"
   ]
  },
  {
   "cell_type": "code",
   "execution_count": 54,
   "id": "820214d0",
   "metadata": {
    "scrolled": false
   },
   "outputs": [
    {
     "data": {
      "text/plain": [
       "{'AC': 1.0,\n",
       " 'AT': 1.0,\n",
       " 'BS': 0.0,\n",
       " 'CA': 1.0,\n",
       " 'CN': 0.0,\n",
       " 'CP': 0.0,\n",
       " 'JT': 0.0,\n",
       " 'ML': 0.0,\n",
       " 'MO': 0.0,\n",
       " 'PC': 1.0,\n",
       " 'SC': 0.0,\n",
       " 'TE': 0.0,\n",
       " 'TM': 0.0}"
      ]
     },
     "execution_count": 54,
     "metadata": {},
     "output_type": "execute_result"
    }
   ],
   "source": [
    "{key : p2[key] * p3[key] * p5[key] for key in p2}"
   ]
  },
  {
   "cell_type": "markdown",
   "id": "e70e54a4",
   "metadata": {},
   "source": [
    "## 2-2j"
   ]
  },
  {
   "cell_type": "code",
   "execution_count": 55,
   "id": "96391b29",
   "metadata": {
    "scrolled": true
   },
   "outputs": [
    {
     "data": {
      "text/plain": [
       "{'AC': 1.0,\n",
       " 'AT': 1.0,\n",
       " 'BS': 0.0,\n",
       " 'CA': 0.0,\n",
       " 'CN': 0.0,\n",
       " 'CP': 0.0,\n",
       " 'JT': 0.0,\n",
       " 'ML': 0.0,\n",
       " 'MO': 0.0,\n",
       " 'PC': 1.0,\n",
       " 'SC': 0.0,\n",
       " 'TE': 0.0,\n",
       " 'TM': 0.0}"
      ]
     },
     "execution_count": 55,
     "metadata": {},
     "output_type": "execute_result"
    }
   ],
   "source": [
    "{key : p2[key] * p3[key] * p4[key] * p5[key] for key in p2}"
   ]
  },
  {
   "cell_type": "markdown",
   "id": "1f451b90",
   "metadata": {},
   "source": [
    "## 2-2k"
   ]
  },
  {
   "cell_type": "code",
   "execution_count": 56,
   "id": "8b064e3d",
   "metadata": {
    "scrolled": false
   },
   "outputs": [
    {
     "data": {
      "text/plain": [
       "{'AC': 1.0,\n",
       " 'AT': 1.0,\n",
       " 'BS': 0.0,\n",
       " 'CA': 0.0,\n",
       " 'CN': 0.0,\n",
       " 'CP': 0.0,\n",
       " 'JT': 0.0,\n",
       " 'ML': 0.0,\n",
       " 'MO': 0.0,\n",
       " 'PC': 1.0,\n",
       " 'SC': 0.0,\n",
       " 'TE': 0.0,\n",
       " 'TM': 0.0}"
      ]
     },
     "execution_count": 56,
     "metadata": {},
     "output_type": "execute_result"
    }
   ],
   "source": [
    "{key : p1[key] * p2[key] * p4[key] * p5[key] for key in p2}"
   ]
  },
  {
   "cell_type": "markdown",
   "id": "c818c595",
   "metadata": {},
   "source": [
    "## 2-2l"
   ]
  },
  {
   "cell_type": "code",
   "execution_count": 57,
   "id": "233ce6d1",
   "metadata": {
    "scrolled": false
   },
   "outputs": [
    {
     "data": {
      "text/plain": [
       "{'AC': 1.0,\n",
       " 'AT': 1.0,\n",
       " 'BS': 0.0,\n",
       " 'CA': 0.0,\n",
       " 'CN': 0.0,\n",
       " 'CP': 0.0,\n",
       " 'JT': 0.0,\n",
       " 'ML': 0.0,\n",
       " 'MO': 0.0,\n",
       " 'PC': 1.0,\n",
       " 'SC': 0.0,\n",
       " 'TE': 0.0,\n",
       " 'TM': 0.0}"
      ]
     },
     "execution_count": 57,
     "metadata": {},
     "output_type": "execute_result"
    }
   ],
   "source": [
    "{key : p1[key] * p2[key] * p3[key] * p4[key] for key in p1}"
   ]
  },
  {
   "cell_type": "code",
   "execution_count": null,
   "id": "57584a98",
   "metadata": {},
   "outputs": [],
   "source": []
  },
  {
   "cell_type": "markdown",
   "id": "994bf5eb",
   "metadata": {},
   "source": [
    "## 2-2m"
   ]
  },
  {
   "cell_type": "code",
   "execution_count": 90,
   "id": "7d454b95",
   "metadata": {
    "scrolled": false
   },
   "outputs": [],
   "source": [
    "# yes"
   ]
  },
  {
   "cell_type": "code",
   "execution_count": null,
   "id": "6701b11c",
   "metadata": {},
   "outputs": [],
   "source": []
  },
  {
   "cell_type": "markdown",
   "id": "3db40667",
   "metadata": {},
   "source": [
    "# 3"
   ]
  },
  {
   "cell_type": "code",
   "execution_count": 60,
   "id": "ed4e6138",
   "metadata": {
    "scrolled": false
   },
   "outputs": [],
   "source": [
    "duration = {TE:9/2, ML:3, AT:1, MO: 2, JT:3/2, CA:2, CP:5/2, CN:2, BS:2, SC:3/2, \n",
    "PC:3/4,TM:2,AC:3/2}"
   ]
  },
  {
   "cell_type": "code",
   "execution_count": 66,
   "id": "df9f98d5",
   "metadata": {},
   "outputs": [],
   "source": [
    "ranking = {TE:5, ML:4, AT:3, MO: 2, JT:3, CA:4, CP:1, CN:5, BS:4, SC:1, \n",
    "PC:3,TM:2,AC:5}"
   ]
  },
  {
   "cell_type": "code",
   "execution_count": 69,
   "id": "ef92609c",
   "metadata": {},
   "outputs": [],
   "source": [
    "price = {TE:15.5, ML:12, AT:9.5, MO: 11, JT:0, CA:10, CP:10, CN:5, BS:8, SC:8.5, \n",
    "PC:0,TM:15,AC:0}"
   ]
  },
  {
   "cell_type": "code",
   "execution_count": null,
   "id": "c5ab0c1b",
   "metadata": {},
   "outputs": [],
   "source": []
  },
  {
   "cell_type": "markdown",
   "id": "9d55a1f6",
   "metadata": {},
   "source": [
    "## 3-a"
   ]
  },
  {
   "cell_type": "code",
   "execution_count": 72,
   "id": "087b554e",
   "metadata": {
    "scrolled": true
   },
   "outputs": [],
   "source": [
    "d = dict(sorted(duration.items(), key=lambda item: item[1]))\n",
    "#dict(sorted(duration.items(), key=lambda item: item[1],reverse=True))"
   ]
  },
  {
   "cell_type": "markdown",
   "id": "e38644d9",
   "metadata": {},
   "source": [
    "## 3-b"
   ]
  },
  {
   "cell_type": "code",
   "execution_count": 74,
   "id": "ae1d8f53",
   "metadata": {
    "scrolled": true
   },
   "outputs": [],
   "source": [
    "#dict(sorted(ranking.items(), key=lambda item: item[1]))\n",
    "r = dict(sorted(ranking.items(), key=lambda item: item[1],reverse=True))"
   ]
  },
  {
   "cell_type": "markdown",
   "id": "f3ebce8f",
   "metadata": {},
   "source": [
    "## 3-c"
   ]
  },
  {
   "cell_type": "code",
   "execution_count": 75,
   "id": "fc521bd4",
   "metadata": {
    "scrolled": true
   },
   "outputs": [],
   "source": [
    "p = dict(sorted(price.items(), key=lambda item: item[1]))\n",
    "#dict(sorted(duration.items(), key=lambda item: item[1],reverse=True))"
   ]
  },
  {
   "cell_type": "code",
   "execution_count": 71,
   "id": "8abec999",
   "metadata": {},
   "outputs": [],
   "source": [
    "import scipy.stats as stats\n",
    "# Calculates Kendall’s tau, a correlation measure for ordinal data.\n",
    "\n",
    "# Kendall’s tau is a measure of the correspondence between two rankings. Values close to 1 indicate strong agreement, values close to -1 indicate strong disagreement. This is the tau-b version of Kendall’s tau which accounts for ties."
   ]
  },
  {
   "cell_type": "code",
   "execution_count": 84,
   "id": "2e63bc9a",
   "metadata": {},
   "outputs": [],
   "source": [
    "tau, p_value = stats.kendalltau(list(price.values()), list(ranking.values()))"
   ]
  },
  {
   "cell_type": "code",
   "execution_count": 85,
   "id": "5117202c",
   "metadata": {},
   "outputs": [
    {
     "data": {
      "text/plain": [
       "-0.08521145659838941"
      ]
     },
     "execution_count": 85,
     "metadata": {},
     "output_type": "execute_result"
    }
   ],
   "source": [
    "tau"
   ]
  },
  {
   "cell_type": "code",
   "execution_count": 86,
   "id": "76eaec01",
   "metadata": {},
   "outputs": [],
   "source": [
    "tau, p_value = stats.kendalltau(list(duration.values()), list(price.values()))"
   ]
  },
  {
   "cell_type": "code",
   "execution_count": 87,
   "id": "0796801a",
   "metadata": {},
   "outputs": [
    {
     "data": {
      "text/plain": [
       "0.605587290764896"
      ]
     },
     "execution_count": 87,
     "metadata": {},
     "output_type": "execute_result"
    }
   ],
   "source": [
    "tau"
   ]
  },
  {
   "cell_type": "code",
   "execution_count": 88,
   "id": "4774eb52",
   "metadata": {},
   "outputs": [],
   "source": [
    "tau, p_value = stats.kendalltau(list(duration.values()), list(ranking.values()))"
   ]
  },
  {
   "cell_type": "code",
   "execution_count": 89,
   "id": "d7e59f7b",
   "metadata": {},
   "outputs": [
    {
     "data": {
      "text/plain": [
       "0.1515325460564539"
      ]
     },
     "execution_count": 89,
     "metadata": {},
     "output_type": "execute_result"
    }
   ],
   "source": [
    "tau"
   ]
  },
  {
   "cell_type": "code",
   "execution_count": null,
   "id": "59bfdd65",
   "metadata": {},
   "outputs": [],
   "source": []
  }
 ],
 "metadata": {
  "kernelspec": {
   "display_name": "Python 3 (ipykernel)",
   "language": "python",
   "name": "python3"
  },
  "language_info": {
   "codemirror_mode": {
    "name": "ipython",
    "version": 3
   },
   "file_extension": ".py",
   "mimetype": "text/x-python",
   "name": "python",
   "nbconvert_exporter": "python",
   "pygments_lexer": "ipython3",
   "version": "3.8.13"
  }
 },
 "nbformat": 4,
 "nbformat_minor": 5
}
