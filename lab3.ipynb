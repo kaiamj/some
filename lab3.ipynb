{
 "cells": [
  {
   "cell_type": "code",
   "execution_count": 156,
   "id": "8f1cb9d0",
   "metadata": {},
   "outputs": [],
   "source": [
    "from math import isnan,sqrt"
   ]
  },
  {
   "cell_type": "code",
   "execution_count": 311,
   "id": "c4c01eee",
   "metadata": {},
   "outputs": [],
   "source": [
    "import pandas as pd\n",
    "import math\n",
    "import numpy as np"
   ]
  },
  {
   "cell_type": "code",
   "execution_count": 2,
   "id": "31083fb9",
   "metadata": {},
   "outputs": [],
   "source": [
    "excel = pd.read_excel('matrix3.xlsx',header = None)\n",
    "df = pd.DataFrame(excel)"
   ]
  },
  {
   "cell_type": "code",
   "execution_count": 3,
   "id": "d2bdf3c0",
   "metadata": {},
   "outputs": [
    {
     "data": {
      "text/html": [
       "<div>\n",
       "<style scoped>\n",
       "    .dataframe tbody tr th:only-of-type {\n",
       "        vertical-align: middle;\n",
       "    }\n",
       "\n",
       "    .dataframe tbody tr th {\n",
       "        vertical-align: top;\n",
       "    }\n",
       "\n",
       "    .dataframe thead th {\n",
       "        text-align: right;\n",
       "    }\n",
       "</style>\n",
       "<table border=\"1\" class=\"dataframe\">\n",
       "  <thead>\n",
       "    <tr style=\"text-align: right;\">\n",
       "      <th></th>\n",
       "      <th>0</th>\n",
       "      <th>1</th>\n",
       "      <th>2</th>\n",
       "      <th>3</th>\n",
       "      <th>4</th>\n",
       "      <th>5</th>\n",
       "      <th>6</th>\n",
       "    </tr>\n",
       "  </thead>\n",
       "  <tbody>\n",
       "    <tr>\n",
       "      <th>0</th>\n",
       "      <td>NaN</td>\n",
       "      <td>Lady</td>\n",
       "      <td>Snakes</td>\n",
       "      <td>Luck</td>\n",
       "      <td>Superman</td>\n",
       "      <td>Dupree</td>\n",
       "      <td>Night</td>\n",
       "    </tr>\n",
       "    <tr>\n",
       "      <th>1</th>\n",
       "      <td>Lisa Rosa</td>\n",
       "      <td>2.5</td>\n",
       "      <td>3.5</td>\n",
       "      <td>3</td>\n",
       "      <td>3.5</td>\n",
       "      <td>2.5</td>\n",
       "      <td>3</td>\n",
       "    </tr>\n",
       "    <tr>\n",
       "      <th>2</th>\n",
       "      <td>Gene Seymour</td>\n",
       "      <td>3</td>\n",
       "      <td>3.5</td>\n",
       "      <td>1.5</td>\n",
       "      <td>5</td>\n",
       "      <td>3.5</td>\n",
       "      <td>3</td>\n",
       "    </tr>\n",
       "    <tr>\n",
       "      <th>3</th>\n",
       "      <td>Micheal Phillips</td>\n",
       "      <td>2.5</td>\n",
       "      <td>3</td>\n",
       "      <td>NaN</td>\n",
       "      <td>3.5</td>\n",
       "      <td>NaN</td>\n",
       "      <td>4</td>\n",
       "    </tr>\n",
       "    <tr>\n",
       "      <th>4</th>\n",
       "      <td>Claudia Puig</td>\n",
       "      <td>NaN</td>\n",
       "      <td>3.5</td>\n",
       "      <td>3</td>\n",
       "      <td>4</td>\n",
       "      <td>2.5</td>\n",
       "      <td>4.5</td>\n",
       "    </tr>\n",
       "    <tr>\n",
       "      <th>5</th>\n",
       "      <td>Mick Lasalle</td>\n",
       "      <td>3</td>\n",
       "      <td>4</td>\n",
       "      <td>2</td>\n",
       "      <td>3</td>\n",
       "      <td>2</td>\n",
       "      <td>3</td>\n",
       "    </tr>\n",
       "    <tr>\n",
       "      <th>6</th>\n",
       "      <td>Jack Matthews</td>\n",
       "      <td>3</td>\n",
       "      <td>4</td>\n",
       "      <td>NaN</td>\n",
       "      <td>5</td>\n",
       "      <td>3.5</td>\n",
       "      <td>3</td>\n",
       "    </tr>\n",
       "    <tr>\n",
       "      <th>7</th>\n",
       "      <td>Toby</td>\n",
       "      <td>NaN</td>\n",
       "      <td>4.5</td>\n",
       "      <td>NaN</td>\n",
       "      <td>4</td>\n",
       "      <td>1</td>\n",
       "      <td>NaN</td>\n",
       "    </tr>\n",
       "    <tr>\n",
       "      <th>8</th>\n",
       "      <td>Anne</td>\n",
       "      <td>1.5</td>\n",
       "      <td>NaN</td>\n",
       "      <td>4</td>\n",
       "      <td>NaN</td>\n",
       "      <td>2</td>\n",
       "      <td>NaN</td>\n",
       "    </tr>\n",
       "  </tbody>\n",
       "</table>\n",
       "</div>"
      ],
      "text/plain": [
       "                  0     1       2     3         4       5      6\n",
       "0               NaN  Lady  Snakes  Luck  Superman  Dupree  Night\n",
       "1         Lisa Rosa   2.5     3.5     3       3.5     2.5      3\n",
       "2      Gene Seymour     3     3.5   1.5         5     3.5      3\n",
       "3  Micheal Phillips   2.5       3   NaN       3.5     NaN      4\n",
       "4      Claudia Puig   NaN     3.5     3         4     2.5    4.5\n",
       "5      Mick Lasalle     3       4     2         3       2      3\n",
       "6     Jack Matthews     3       4   NaN         5     3.5      3\n",
       "7              Toby   NaN     4.5   NaN         4       1    NaN\n",
       "8              Anne   1.5     NaN     4       NaN       2    NaN"
      ]
     },
     "execution_count": 3,
     "metadata": {},
     "output_type": "execute_result"
    }
   ],
   "source": [
    "df"
   ]
  },
  {
   "cell_type": "markdown",
   "id": "fca40cc0",
   "metadata": {},
   "source": [
    "## 1"
   ]
  },
  {
   "cell_type": "code",
   "execution_count": 4,
   "id": "7388797a",
   "metadata": {},
   "outputs": [],
   "source": [
    "def dict(df):\n",
    "    d1 = {}\n",
    "    for i in range(1,len(df.axes[0])):    \n",
    "    \n",
    "        #print(df.iloc[i,0])\n",
    "        d2 = {}\n",
    "        for j in range(1, len(df.axes[1])):\n",
    "            d2[df.iloc[0,j]] = df.iloc[i,j]\n",
    "            #print(df.iloc[0,j])\n",
    "        \n",
    "        d1[df.iloc[i,0]] = d2\n",
    "    return d1"
   ]
  },
  {
   "cell_type": "code",
   "execution_count": 5,
   "id": "439feef8",
   "metadata": {},
   "outputs": [],
   "source": [
    "critiques = dict(df)"
   ]
  },
  {
   "cell_type": "markdown",
   "id": "08c31c46",
   "metadata": {},
   "source": [
    "## 2"
   ]
  },
  {
   "cell_type": "code",
   "execution_count": 23,
   "id": "55887638",
   "metadata": {},
   "outputs": [],
   "source": [
    "def sim_distanceManhattan(person1, person2):\n",
    "    s = 0\n",
    "    for i in person1.keys(): \n",
    "        #print(person1[i])\n",
    "        \n",
    "        if math.isnan(person1[i]) or math.isnan(person2[i]):\n",
    "            #print(\"--------\",math.isnan(person1[i]))\n",
    "            next \n",
    "        else:\n",
    "            s += abs(person1[i]-person2[i])\n",
    "            #print(s)\n",
    "    return s\n",
    " "
   ]
  },
  {
   "cell_type": "code",
   "execution_count": 24,
   "id": "0f999be7",
   "metadata": {},
   "outputs": [
    {
     "data": {
      "text/plain": [
       "2.5"
      ]
     },
     "execution_count": 24,
     "metadata": {},
     "output_type": "execute_result"
    }
   ],
   "source": [
    "sim_distanceManhattan(critiques['Anne'], critiques['Lisa Rosa'])"
   ]
  },
  {
   "cell_type": "code",
   "execution_count": 87,
   "id": "2ad3db2a",
   "metadata": {},
   "outputs": [],
   "source": [
    "def sim_distanceEuclidienne(person1, person2):\n",
    "    s = 0\n",
    "    for i in person1.keys(): \n",
    "        #print(person1[i])\n",
    "        \n",
    "        if isnan(person1[i]) or math.isnan(person2[i]):\n",
    "            #print(\"--------\",math.isnan(person1[i]))\n",
    "            next \n",
    "        else:\n",
    "            s += ((person1[i]-person2[i])**2)\n",
    "            #print(s)\n",
    "    return math.sqrt(s)"
   ]
  },
  {
   "cell_type": "code",
   "execution_count": 88,
   "id": "ec8833e9",
   "metadata": {},
   "outputs": [
    {
     "data": {
      "text/plain": [
       "2.3979157616563596"
      ]
     },
     "execution_count": 88,
     "metadata": {},
     "output_type": "execute_result"
    }
   ],
   "source": [
    "sim_distanceEuclidienne(critiques['Lisa Rosa'],critiques['Gene Seymour'])"
   ]
  },
  {
   "cell_type": "code",
   "execution_count": 221,
   "id": "3874c120",
   "metadata": {},
   "outputs": [],
   "source": [
    "def computeNearestNeighbor(new_person, df):\n",
    "    similarity_list = []\n",
    "    for i in df.keys():\n",
    "        distance=sim_distanceManhattan(new_person, df[i])\n",
    "#         print(new_person, df[i],\"---------------\",distance)\n",
    "        similarity_list.append((distance,i))\n",
    "        \n",
    "    similarity_list.sort()\n",
    "    return similarity_list[1:]"
   ]
  },
  {
   "cell_type": "code",
   "execution_count": 222,
   "id": "43ef8343",
   "metadata": {},
   "outputs": [
    {
     "data": {
      "text/plain": [
       "[(1.0, 'Micheal Phillips'),\n",
       " (1, 'Toby'),\n",
       " (1.5, 'Claudia Puig'),\n",
       " (2.5, 'Lisa Rosa'),\n",
       " (3.0, 'Jack Matthews'),\n",
       " (3.5, 'Mick Lasalle'),\n",
       " (5.5, 'Gene Seymour')]"
      ]
     },
     "execution_count": 222,
     "metadata": {},
     "output_type": "execute_result"
    }
   ],
   "source": [
    "computeNearestNeighbor(critiques['Anne'], critiques)"
   ]
  },
  {
   "cell_type": "code",
   "execution_count": 97,
   "id": "ed0527b4",
   "metadata": {},
   "outputs": [],
   "source": [
    "def recommendNearestNeighbor(new_person, df):\n",
    "    li=computeNearestNeighbor(new_person, df)\n",
    "    my_dict = critiques[li[0][1]]\n",
    "    clean_dict = {k: my_dict[k] for k in my_dict if not isnan(my_dict[k])}\n",
    "\n",
    "#     print(li)\n",
    "    return clean_dict"
   ]
  },
  {
   "cell_type": "code",
   "execution_count": 98,
   "id": "e423948e",
   "metadata": {},
   "outputs": [
    {
     "data": {
      "text/plain": [
       "{'Lady': 1.5, 'Luck': 4, 'Dupree': 2}"
      ]
     },
     "execution_count": 98,
     "metadata": {},
     "output_type": "execute_result"
    }
   ],
   "source": [
    "recommendNearestNeighbor(critiques['Toby'],critiques)"
   ]
  },
  {
   "cell_type": "markdown",
   "id": "bc3e9ac3",
   "metadata": {},
   "source": [
    "## 1- c (best recommend movie)"
   ]
  },
  {
   "cell_type": "code",
   "execution_count": 262,
   "id": "be3624f8",
   "metadata": {},
   "outputs": [],
   "source": [
    "def BestRecommend(new_person, di,movies,model):\n",
    "    list_score = ()\n",
    "    final = 0\n",
    "    li=model(new_person, di)\n",
    "    for movie in movies:\n",
    "        total = 0\n",
    "        s = 0\n",
    "        for i in li:  #i = (1.0, 'Micheal Phillips')   i[1]= 'Micheal Phillips'\n",
    "            movie_rate = di[i[1]][movie]\n",
    "            if not isnan(movie_rate):\n",
    "            \n",
    "                total += movie_rate/(1+i[0])  # i[0] =similarity distance\n",
    "                s += 1/(1+i[0])\n",
    "            \n",
    "                #print(di[i[1]][movie])\n",
    "        final_s = total/s\n",
    "        #print(final_s,final)\n",
    "    \n",
    "        if final< final_s:\n",
    "            final = final_s\n",
    "            list_score = (movie, total/s)\n",
    "    \n",
    "    return list_score\n",
    "    "
   ]
  },
  {
   "cell_type": "code",
   "execution_count": 294,
   "id": "2be0d3d0",
   "metadata": {},
   "outputs": [],
   "source": [
    "def get_unwatched_movies(my_dict):\n",
    "#my_dict = critiques['Anne']\n",
    "    return {k for k in my_dict if isnan(my_dict[k])}  # getting list of movies anne didnot watch"
   ]
  },
  {
   "cell_type": "code",
   "execution_count": 296,
   "id": "97c9e1da",
   "metadata": {},
   "outputs": [],
   "source": [
    "movies = get_unwatched_movies(critiques['Anne'])"
   ]
  },
  {
   "cell_type": "code",
   "execution_count": 265,
   "id": "69b5cca1",
   "metadata": {},
   "outputs": [
    {
     "data": {
      "text/plain": [
       "('Superman', 3.9086275648981967)"
      ]
     },
     "execution_count": 265,
     "metadata": {},
     "output_type": "execute_result"
    }
   ],
   "source": [
    "BestRecommend(critiques['Anne'], critiques,movies,computeNearestNeighbor)"
   ]
  },
  {
   "cell_type": "markdown",
   "id": "07853432",
   "metadata": {},
   "source": [
    "## 1-d (pearson )"
   ]
  },
  {
   "cell_type": "code",
   "execution_count": 157,
   "id": "f99bc1ed",
   "metadata": {},
   "outputs": [],
   "source": [
    "def pearson(person1,person2):\n",
    "    sum_xy = 0\n",
    "    sum_x = 0\n",
    "    sum_y = 0\n",
    "    sum_x2 = 0\n",
    "    sum_y2 = 0\n",
    "    n = 0\n",
    "    for i in person1.keys(): \n",
    "        if math.isnan(person1[i]) or math.isnan(person2[i]):\n",
    "            #print(\"--------\",math.isnan(person1[i]))\n",
    "            next \n",
    "        else:\n",
    "            n += 1\n",
    "            x = person1[i]\n",
    "            y = person2[i]\n",
    "            sum_xy += x*y\n",
    "            sum_x += x\n",
    "            sum_y += y\n",
    "            sum_x2 += x**2\n",
    "            sum_y2 += y**2\n",
    "    denominator = sqrt(sum_x2 - (sum_x**2)/n) * sqrt(sum_y2- (sum_y**2)/n)\n",
    "    if denominator == 0:\n",
    "        return 0\n",
    "    else:\n",
    "        return (sum_xy - (sum_x * sum_y ) /n) / denominator \n",
    "           "
   ]
  },
  {
   "cell_type": "code",
   "execution_count": 158,
   "id": "eba31965",
   "metadata": {},
   "outputs": [
    {
     "data": {
      "text/plain": [
       "0.39605901719066977"
      ]
     },
     "execution_count": 158,
     "metadata": {},
     "output_type": "execute_result"
    }
   ],
   "source": [
    "pearson(critiques['Lisa Rosa'],critiques['Gene Seymour'])"
   ]
  },
  {
   "cell_type": "code",
   "execution_count": 210,
   "id": "d1356c9e",
   "metadata": {},
   "outputs": [],
   "source": [
    "# def takefirst(elem):\n",
    "#     return elem[0]"
   ]
  },
  {
   "cell_type": "code",
   "execution_count": 273,
   "id": "f8cba005",
   "metadata": {},
   "outputs": [],
   "source": [
    "def computeNearestNeighbor_movies(new_person, df):\n",
    "    similarity_list = []\n",
    "    \n",
    "    #print(new_person,df)\n",
    "    for i in df.keys():\n",
    "        distance=pearson(new_person, df[i])\n",
    "        #print(i,\"-----\",distance)\n",
    "#         print(new_person, df[i],\"---------------\",distance)\n",
    "        similarity_list.append((distance,i))\n",
    "        #print(similarity_list)  \n",
    "    \n",
    "    return sorted(similarity_list,reverse = True)[1:]"
   ]
  },
  {
   "cell_type": "code",
   "execution_count": 274,
   "id": "03878060",
   "metadata": {},
   "outputs": [
    {
     "data": {
      "text/plain": [
       "[(0.9999999999999998, 'Jack Matthews'),\n",
       " (0.9999999999999998, 'Claudia Puig'),\n",
       " (0.9819805060619622, 'Lisa Rosa'),\n",
       " (0, 'Toby'),\n",
       " (0, 'Micheal Phillips'),\n",
       " (-0.6546536707079765, 'Mick Lasalle'),\n",
       " (-0.9078412990032034, 'Gene Seymour')]"
      ]
     },
     "execution_count": 274,
     "metadata": {},
     "output_type": "execute_result"
    }
   ],
   "source": [
    "computeNearestNeighbor_movies(critiques['Anne'],critiques)\n",
    "#def PearsonRecomend(person1, di):\n",
    "    \n",
    "    "
   ]
  },
  {
   "cell_type": "code",
   "execution_count": 275,
   "id": "0d396b49",
   "metadata": {},
   "outputs": [],
   "source": [
    "def BestRecommend(new_person, di,movies,model):\n",
    "    list_score = ()\n",
    "    final = 0\n",
    "    li=model(new_person, di)\n",
    "    for movie in movies:\n",
    "        total = 0\n",
    "        s = 0\n",
    "        for i in li:  #i = (1.0, 'Micheal Phillips')   i[1]= 'Micheal Phillips'\n",
    "            movie_rate = di[i[1]][movie]\n",
    "            if not isnan(movie_rate):\n",
    "            \n",
    "                total += movie_rate/(1+i[0])  # i[0] =similarity distance\n",
    "                s += 1/(1+i[0])\n",
    "            \n",
    "                #print(di[i[1]][movie])\n",
    "        final_s = total/s\n",
    "        #print(final_s,final)\n",
    "    \n",
    "        if final< final_s:\n",
    "            final = final_s\n",
    "            list_score = (movie, total/s)\n",
    "    \n",
    "    return list_score\n",
    "    "
   ]
  },
  {
   "cell_type": "code",
   "execution_count": 276,
   "id": "35cce366",
   "metadata": {},
   "outputs": [
    {
     "data": {
      "text/plain": [
       "('Superman', 4.446519851865466)"
      ]
     },
     "execution_count": 276,
     "metadata": {},
     "output_type": "execute_result"
    }
   ],
   "source": [
    "BestRecommend(critiques['Anne'], critiques,movies,computeNearestNeighbor_movies)"
   ]
  },
  {
   "cell_type": "markdown",
   "id": "a5931b60",
   "metadata": {},
   "source": [
    "## 1-e (cosine similarity)"
   ]
  },
  {
   "cell_type": "code",
   "execution_count": 283,
   "id": "fc0040f9",
   "metadata": {},
   "outputs": [],
   "source": [
    "def cosine_similarity(person1,person2):\n",
    "    sumxx, sumxy, sumyy = 0, 0, 0\n",
    "    \"compute cosine similarity of v1 to v2: (v1 dot v2)/{||v1||*||v2||)\"\n",
    "    for i in person1.keys(): \n",
    "        if math.isnan(person1[i]) or math.isnan(person2[i]):\n",
    "            #print(\"--------\",math.isnan(person1[i]))\n",
    "            next \n",
    "        else:\n",
    "    \n",
    "            x = person1[i]; y = person2[i]\n",
    "            sumxx += x*x\n",
    "            sumyy += y*y\n",
    "            sumxy += x*y\n",
    "            \n",
    "    return sumxy/(math.sqrt(sumxx)*math.sqrt(sumyy))"
   ]
  },
  {
   "cell_type": "code",
   "execution_count": 284,
   "id": "b3c2ecfb",
   "metadata": {},
   "outputs": [
    {
     "data": {
      "text/plain": [
       "0.9606463013980241"
      ]
     },
     "execution_count": 284,
     "metadata": {},
     "output_type": "execute_result"
    }
   ],
   "source": [
    "cosine_similarity(critiques['Lisa Rosa'],critiques['Gene Seymour'])"
   ]
  },
  {
   "cell_type": "code",
   "execution_count": 289,
   "id": "1032f109",
   "metadata": {},
   "outputs": [],
   "source": [
    "def computeNearestNeighbor_movies_cosine(new_person, df):\n",
    "    similarity_list = []\n",
    "    \n",
    "    #print(new_person,df)\n",
    "    for i in df.keys():\n",
    "        distance=cosine_similarity(new_person, df[i])\n",
    "        #print(i,\"-----\",distance)\n",
    "#         print(new_person, df[i],\"---------------\",distance)\n",
    "        similarity_list.append((distance,i))\n",
    "        #print(similarity_list)  \n",
    "    \n",
    "    return sorted(similarity_list,reverse = True)[1:]"
   ]
  },
  {
   "cell_type": "code",
   "execution_count": 290,
   "id": "7a8e9952",
   "metadata": {},
   "outputs": [
    {
     "data": {
      "text/plain": [
       "[(1.0, 'Toby'),\n",
       " (1.0, 'Micheal Phillips'),\n",
       " (0.9978801059658184, 'Jack Matthews'),\n",
       " (0.973417168333576, 'Claudia Puig'),\n",
       " (0.9487108412240661, 'Lisa Rosa'),\n",
       " (0.8483879196029503, 'Mick Lasalle'),\n",
       " (0.7653130340994871, 'Gene Seymour')]"
      ]
     },
     "execution_count": 290,
     "metadata": {},
     "output_type": "execute_result"
    }
   ],
   "source": [
    "computeNearestNeighbor_movies_cosine(critiques['Anne'],critiques)\n",
    "   \n",
    "    "
   ]
  },
  {
   "cell_type": "code",
   "execution_count": 291,
   "id": "6f119c5e",
   "metadata": {},
   "outputs": [
    {
     "data": {
      "text/plain": [
       "('Superman', 4.0053503123050636)"
      ]
     },
     "execution_count": 291,
     "metadata": {},
     "output_type": "execute_result"
    }
   ],
   "source": [
    "BestRecommend(critiques['Anne'], critiques,movies,computeNearestNeighbor_movies_cosine)"
   ]
  },
  {
   "cell_type": "markdown",
   "id": "b316a9b2",
   "metadata": {},
   "source": [
    "## 3 new matrix"
   ]
  },
  {
   "cell_type": "code",
   "execution_count": 314,
   "id": "24fe491e",
   "metadata": {},
   "outputs": [],
   "source": [
    "dict_song = {\n",
    "    'Angelica':{'Blues Traveler':3.5, 'Broken Bells':2 , 'Deadmau':np.nan , 'Norah Jones':4.5 ,'Phoenix':5,'Sightly Stoopid':1.5, 'The Strokes':2.5 ,'Vampire Weekend':2},\n",
    "    'Bill':{'Blues Traveler':2, 'Broken Bells':3.5 , 'Deadmau':4 , 'Norah Jones':np.nan, 'Phoenix':2,'Sightly Stoopid':3.5, 'The Strokes':np.nan ,'Vampire Weekend':3},\n",
    "    'Chan':{'Blues Traveler':5, 'Broken Bells':1 , 'Deadmau':1 , 'Norah Jones':3, 'Phoenix':5,'Sightly Stoopid':1, 'The Strokes':np.nan ,'Vampire Weekend':np.nan},\n",
    "    'Dan':{'Blues Traveler':3, 'Broken Bells':4 , 'Deadmau':4.5 , 'Norah Jones':np.nan, 'Phoenix':3,'Sightly Stoopid':4.5, 'The Strokes': 4,'Vampire Weekend':2},\n",
    "    'Hailey':{'Blues Traveler':np.nan, 'Broken Bells':4 , 'Deadmau':1 , 'Norah Jones':4, 'Phoenix':np.nan,'Sightly Stoopid':np.nan, 'The Strokes':4 ,'Vampire Weekend':1},\n",
    "    'Jordyn':{'Blues Traveler':np.nan, 'Broken Bells':4.5 , 'Deadmau':4 , 'Norah Jones':5, 'Phoenix':5,'Sightly Stoopid':4.5, 'The Strokes':4 ,'Vampire Weekend':4},\n",
    "    'Sam':{'Blues Traveler':5, 'Broken Bells':2 , 'Deadmau':np.nan , 'Norah Jones':3, 'Phoenix':5,'Sightly Stoopid':4, 'The Strokes':5 ,'Vampire Weekend':np.nan},\n",
    "    'Veronica':{'Blues Traveler':3, 'Broken Bells': np.nan, 'Deadmau':np.nan , 'Norah Jones':5, 'Phoenix':4,'Sightly Stoopid':2.5, 'The Strokes':3 ,'Vampire Weekend':np.nan}\n",
    "}"
   ]
  },
  {
   "cell_type": "code",
   "execution_count": 318,
   "id": "4f7ecfc6",
   "metadata": {},
   "outputs": [],
   "source": [
    "movies_veronica = get_unwatched_movies(dict_song['Veronica'])\n",
    "movies_Hailey = get_unwatched_movies(dict_song['Hailey'])"
   ]
  },
  {
   "cell_type": "code",
   "execution_count": 319,
   "id": "a252e335",
   "metadata": {},
   "outputs": [
    {
     "data": {
      "text/plain": [
       "{'Blues Traveler', 'Phoenix', 'Sightly Stoopid'}"
      ]
     },
     "execution_count": 319,
     "metadata": {},
     "output_type": "execute_result"
    }
   ],
   "source": [
    "movies_veronica\n",
    "movies_Hailey "
   ]
  },
  {
   "cell_type": "markdown",
   "id": "e8b8d081",
   "metadata": {},
   "source": [
    "### veronica"
   ]
  },
  {
   "cell_type": "code",
   "execution_count": 322,
   "id": "29bd1350",
   "metadata": {},
   "outputs": [
    {
     "data": {
      "text/plain": [
       "('Broken Bells', 3.2432885906040276)"
      ]
     },
     "execution_count": 322,
     "metadata": {},
     "output_type": "execute_result"
    }
   ],
   "source": [
    "BestRecommend(dict_song['Veronica'], dict_song,movies_veronica,computeNearestNeighbor)"
   ]
  },
  {
   "cell_type": "code",
   "execution_count": 323,
   "id": "0ce73668",
   "metadata": {},
   "outputs": [
    {
     "data": {
      "text/plain": [
       "('Deadmau', 3.679955010191387)"
      ]
     },
     "execution_count": 323,
     "metadata": {},
     "output_type": "execute_result"
    }
   ],
   "source": [
    "BestRecommend(dict_song['Veronica'], dict_song,movies_veronica,computeNearestNeighbor_movies)"
   ]
  },
  {
   "cell_type": "code",
   "execution_count": 324,
   "id": "2b399e14",
   "metadata": {},
   "outputs": [
    {
     "data": {
      "text/plain": [
       "('Broken Bells', 2.990824665013164)"
      ]
     },
     "execution_count": 324,
     "metadata": {},
     "output_type": "execute_result"
    }
   ],
   "source": [
    "BestRecommend(dict_song['Veronica'], dict_song,movies_veronica,computeNearestNeighbor_movies_cosine)"
   ]
  },
  {
   "cell_type": "markdown",
   "id": "a3d643b0",
   "metadata": {},
   "source": [
    "## Broken Bells for Veronica"
   ]
  },
  {
   "cell_type": "code",
   "execution_count": null,
   "id": "b0f94dca",
   "metadata": {},
   "outputs": [],
   "source": []
  },
  {
   "cell_type": "markdown",
   "id": "83031721",
   "metadata": {},
   "source": [
    "### Hailey"
   ]
  },
  {
   "cell_type": "code",
   "execution_count": 325,
   "id": "1fa5703f",
   "metadata": {},
   "outputs": [
    {
     "data": {
      "text/plain": [
       "('Deadmau', 3.220753053771565)"
      ]
     },
     "execution_count": 325,
     "metadata": {},
     "output_type": "execute_result"
    }
   ],
   "source": [
    "BestRecommend(dict_song['Hailey'], dict_song,movies_veronica,computeNearestNeighbor)"
   ]
  },
  {
   "cell_type": "code",
   "execution_count": 326,
   "id": "90c70f36",
   "metadata": {},
   "outputs": [
    {
     "data": {
      "text/plain": [
       "('Deadmau', 3.4542803501238524)"
      ]
     },
     "execution_count": 326,
     "metadata": {},
     "output_type": "execute_result"
    }
   ],
   "source": [
    "BestRecommend(dict_song['Hailey'], dict_song,movies_veronica,computeNearestNeighbor_movies)"
   ]
  },
  {
   "cell_type": "code",
   "execution_count": 327,
   "id": "fb0ab383",
   "metadata": {},
   "outputs": [
    {
     "data": {
      "text/plain": [
       "('Deadmau', 3.3824257277265937)"
      ]
     },
     "execution_count": 327,
     "metadata": {},
     "output_type": "execute_result"
    }
   ],
   "source": [
    "BestRecommend(dict_song['Hailey'], dict_song,movies_veronica,computeNearestNeighbor_movies_cosine)"
   ]
  },
  {
   "cell_type": "markdown",
   "id": "891c42ae",
   "metadata": {},
   "source": [
    "## Deadmau for Hailey"
   ]
  },
  {
   "cell_type": "code",
   "execution_count": null,
   "id": "70f1cbe9",
   "metadata": {},
   "outputs": [],
   "source": []
  },
  {
   "cell_type": "markdown",
   "id": "60947be8",
   "metadata": {},
   "source": [
    "## 4 - own example"
   ]
  },
  {
   "cell_type": "code",
   "execution_count": 343,
   "id": "1c4e36d5",
   "metadata": {},
   "outputs": [
    {
     "name": "stdout",
     "output_type": "stream",
     "text": [
      "{'person1': {'movie0': 5, 'movie1': 3, 'movie2': 2, 'movie3': 3, 'movie4': 2, 'movie5': 2, 'movie6': 0, 'movie7': 5, 'movie8': 0, 'movie9': 0, 'movie10': 4, 'movie11': 5}, 'person2': {'movie0': 3, 'movie1': 0, 'movie2': 3, 'movie3': 2, 'movie4': 3, 'movie5': 5, 'movie6': 3, 'movie7': 3, 'movie8': 0, 'movie9': 4, 'movie10': 4, 'movie11': 0}, 'person3': {'movie0': 5, 'movie1': 4, 'movie2': 0, 'movie3': 1, 'movie4': 2, 'movie5': 1, 'movie6': 2, 'movie7': 3, 'movie8': 0, 'movie9': 1, 'movie10': 2, 'movie11': 0}, 'person4': {'movie0': 2, 'movie1': 0, 'movie2': 5, 'movie3': 2, 'movie4': 2, 'movie5': 3, 'movie6': 2, 'movie7': 0, 'movie8': 1, 'movie9': 5, 'movie10': 5, 'movie11': 0}, 'person5': {'movie0': 2, 'movie1': 5, 'movie2': 2, 'movie3': 3, 'movie4': 0, 'movie5': 4, 'movie6': 0, 'movie7': 1, 'movie8': 5, 'movie9': 4, 'movie10': 0, 'movie11': 3}, 'person6': {'movie0': 1, 'movie1': 0, 'movie2': 4, 'movie3': 5, 'movie4': 0, 'movie5': 2, 'movie6': 2, 'movie7': 5, 'movie8': 1, 'movie9': 5, 'movie10': 3, 'movie11': 4}, 'person7': {'movie0': 4, 'movie1': 4, 'movie2': 5, 'movie3': 1, 'movie4': 5, 'movie5': 1, 'movie6': 1, 'movie7': 4, 'movie8': 0, 'movie9': 4, 'movie10': 4, 'movie11': 5}, 'person8': {'movie0': 0, 'movie1': 5, 'movie2': 1, 'movie3': 1, 'movie4': 2, 'movie5': 0, 'movie6': 5, 'movie7': 1, 'movie8': 5, 'movie9': 1, 'movie10': 4, 'movie11': 5}, 'person9': {'movie0': 4, 'movie1': 4, 'movie2': 4, 'movie3': 4, 'movie4': 1, 'movie5': 0, 'movie6': 1, 'movie7': 0, 'movie8': 5, 'movie9': 0, 'movie10': 3, 'movie11': 4}, 'person10': {'movie0': 3, 'movie1': 1, 'movie2': 2, 'movie3': 4, 'movie4': 2, 'movie5': 1, 'movie6': 2, 'movie7': 3, 'movie8': 4, 'movie9': 2, 'movie10': 4, 'movie11': 0}}\n"
     ]
    }
   ],
   "source": [
    "from random import randrange, randint\n",
    "def function(n):\n",
    "    mydict1 = {}\n",
    "    for i in range(1,n+1):\n",
    "        mydict = {'movie'+str(i):randint(0,5) for i in range(n+2)}\n",
    "        mydict1['person'+str(i)] = mydict\n",
    "            \n",
    "    \n",
    "    return mydict1\n",
    "\n",
    "print(function(10))"
   ]
  },
  {
   "cell_type": "code",
   "execution_count": 346,
   "id": "db5fff88",
   "metadata": {},
   "outputs": [],
   "source": [
    "random_dict = {'person1': {'movie0': 5, 'movie1': 3, 'movie2': 2, 'movie3': np.nan, 'movie4': 2, 'movie5': 2, 'movie6': np.nan, 'movie7': np.nan, 'movie8': np.nan, 'movie9': np.nan, 'movie10': 4, 'movie11': 5}, 'person2': {'movie0': 3, 'movie1': np.nan, 'movie2': 3, 'movie3': 2, 'movie4': np.nan, 'movie5': 5, 'movie6': 3, 'movie7': 3, 'movie8': np.nan, 'movie9': 4, 'movie10': 4, 'movie11': np.nan}, 'person3': {'movie0': 5, 'movie1': 4, 'movie2': np.nan, 'movie3': 1, 'movie4': 2, 'movie5': np.nan, 'movie6': 2, 'movie7': 3, 'movie8': np.nan, 'movie9': 1, 'movie10': 2, 'movie11': np.nan}, 'person4': {'movie0': 2, 'movie1': np.nan, 'movie2': 5, 'movie3': 2, 'movie4': np.nan, 'movie5': 3, 'movie6': 2, 'movie7': np.nan, 'movie8': 1, 'movie9': 5, 'movie10': 5, 'movie11': np.nan}, 'person5': {'movie0': 2, 'movie1': 5, 'movie2': 2, 'movie3': np.nan, 'movie4': np.nan, 'movie5': 4, 'movie6': np.nan, 'movie7': 1, 'movie8': 5, 'movie9': 4, 'movie10': np.nan, 'movie11': 3}, 'person6': {'movie0': 1, 'movie1': np.nan, 'movie2': 4, 'movie3': 5, 'movie4': np.nan, 'movie5': 2, 'movie6': np.nan, 'movie7': 5, 'movie8': np.nan, 'movie9': 5, 'movie10': 3, 'movie11': 4}, 'person7': {'movie0': 4, 'movie1': np.nan, 'movie2': 5, 'movie3': 1, 'movie4': np.nan, 'movie5': 1, 'movie6': np.nan, 'movie7': 4, 'movie8': 0, 'movie9': 4, 'movie10': np.nan, 'movie11': 5}, 'person8': {'movie0': np.nan, 'movie1': 5, 'movie2': np.nan, 'movie3': 1, 'movie4': 2, 'movie5': np.nan, 'movie6': 5, 'movie7': np.nan, 'movie8': np.nan, 'movie9': 1, 'movie10': 4, 'movie11': 5}, 'person9': {'movie0': np.nan, 'movie1': 4, 'movie2': np.nan, 'movie3': 4, 'movie4': 1, 'movie5': np.nan, 'movie6': 1, 'movie7': np.nan, 'movie8': 5, 'movie9': np.nan, 'movie10': 3, 'movie11': 4}, 'person10': {'movie0': 3, 'movie1': np.nan, 'movie2': 2, 'movie3': np.nan, 'movie4': 2, 'movie5': 1, 'movie6': np.nan, 'movie7': 3, 'movie8': 4, 'movie9': np.nan, 'movie10': np.nan, 'movie11': np.nan}}"
   ]
  },
  {
   "cell_type": "code",
   "execution_count": 347,
   "id": "4bc57c2a",
   "metadata": {},
   "outputs": [
    {
     "data": {
      "text/plain": [
       "{'person1': {'movie0': 5,\n",
       "  'movie1': 3,\n",
       "  'movie2': 2,\n",
       "  'movie3': nan,\n",
       "  'movie4': 2,\n",
       "  'movie5': 2,\n",
       "  'movie6': nan,\n",
       "  'movie7': nan,\n",
       "  'movie8': nan,\n",
       "  'movie9': nan,\n",
       "  'movie10': 4,\n",
       "  'movie11': 5},\n",
       " 'person2': {'movie0': 3,\n",
       "  'movie1': nan,\n",
       "  'movie2': 3,\n",
       "  'movie3': 2,\n",
       "  'movie4': nan,\n",
       "  'movie5': 5,\n",
       "  'movie6': 3,\n",
       "  'movie7': 3,\n",
       "  'movie8': nan,\n",
       "  'movie9': 4,\n",
       "  'movie10': 4,\n",
       "  'movie11': nan},\n",
       " 'person3': {'movie0': 5,\n",
       "  'movie1': 4,\n",
       "  'movie2': nan,\n",
       "  'movie3': 1,\n",
       "  'movie4': 2,\n",
       "  'movie5': nan,\n",
       "  'movie6': 2,\n",
       "  'movie7': 3,\n",
       "  'movie8': nan,\n",
       "  'movie9': 1,\n",
       "  'movie10': 2,\n",
       "  'movie11': nan},\n",
       " 'person4': {'movie0': 2,\n",
       "  'movie1': nan,\n",
       "  'movie2': 5,\n",
       "  'movie3': 2,\n",
       "  'movie4': nan,\n",
       "  'movie5': 3,\n",
       "  'movie6': 2,\n",
       "  'movie7': nan,\n",
       "  'movie8': 1,\n",
       "  'movie9': 5,\n",
       "  'movie10': 5,\n",
       "  'movie11': nan},\n",
       " 'person5': {'movie0': 2,\n",
       "  'movie1': 5,\n",
       "  'movie2': 2,\n",
       "  'movie3': nan,\n",
       "  'movie4': nan,\n",
       "  'movie5': 4,\n",
       "  'movie6': nan,\n",
       "  'movie7': 1,\n",
       "  'movie8': 5,\n",
       "  'movie9': 4,\n",
       "  'movie10': nan,\n",
       "  'movie11': 3},\n",
       " 'person6': {'movie0': 1,\n",
       "  'movie1': nan,\n",
       "  'movie2': 4,\n",
       "  'movie3': 5,\n",
       "  'movie4': nan,\n",
       "  'movie5': 2,\n",
       "  'movie6': nan,\n",
       "  'movie7': 5,\n",
       "  'movie8': nan,\n",
       "  'movie9': 5,\n",
       "  'movie10': 3,\n",
       "  'movie11': 4},\n",
       " 'person7': {'movie0': 4,\n",
       "  'movie1': nan,\n",
       "  'movie2': 5,\n",
       "  'movie3': 1,\n",
       "  'movie4': nan,\n",
       "  'movie5': 1,\n",
       "  'movie6': nan,\n",
       "  'movie7': 4,\n",
       "  'movie8': 0,\n",
       "  'movie9': 4,\n",
       "  'movie10': nan,\n",
       "  'movie11': 5},\n",
       " 'person8': {'movie0': nan,\n",
       "  'movie1': 5,\n",
       "  'movie2': nan,\n",
       "  'movie3': 1,\n",
       "  'movie4': 2,\n",
       "  'movie5': nan,\n",
       "  'movie6': 5,\n",
       "  'movie7': nan,\n",
       "  'movie8': nan,\n",
       "  'movie9': 1,\n",
       "  'movie10': 4,\n",
       "  'movie11': 5},\n",
       " 'person9': {'movie0': nan,\n",
       "  'movie1': 4,\n",
       "  'movie2': nan,\n",
       "  'movie3': 4,\n",
       "  'movie4': 1,\n",
       "  'movie5': nan,\n",
       "  'movie6': 1,\n",
       "  'movie7': nan,\n",
       "  'movie8': 5,\n",
       "  'movie9': nan,\n",
       "  'movie10': 3,\n",
       "  'movie11': 4},\n",
       " 'person10': {'movie0': 3,\n",
       "  'movie1': nan,\n",
       "  'movie2': 2,\n",
       "  'movie3': nan,\n",
       "  'movie4': 2,\n",
       "  'movie5': 1,\n",
       "  'movie6': nan,\n",
       "  'movie7': 3,\n",
       "  'movie8': 4,\n",
       "  'movie9': nan,\n",
       "  'movie10': nan,\n",
       "  'movie11': nan}}"
      ]
     },
     "execution_count": 347,
     "metadata": {},
     "output_type": "execute_result"
    }
   ],
   "source": [
    "random_dict"
   ]
  },
  {
   "cell_type": "code",
   "execution_count": 349,
   "id": "8f6a3b48",
   "metadata": {},
   "outputs": [],
   "source": [
    "# movies not watched by person 10 \n",
    "movies_person10 = get_unwatched_movies(random_dict['person10'])"
   ]
  },
  {
   "cell_type": "code",
   "execution_count": 350,
   "id": "a823bc1e",
   "metadata": {},
   "outputs": [
    {
     "data": {
      "text/plain": [
       "{'movie1', 'movie10', 'movie11', 'movie3', 'movie6', 'movie9'}"
      ]
     },
     "execution_count": 350,
     "metadata": {},
     "output_type": "execute_result"
    }
   ],
   "source": [
    "movies_person10"
   ]
  },
  {
   "cell_type": "code",
   "execution_count": 351,
   "id": "b1c3bb20",
   "metadata": {},
   "outputs": [
    {
     "data": {
      "text/plain": [
       "('movie11', 4.633620689655172)"
      ]
     },
     "execution_count": 351,
     "metadata": {},
     "output_type": "execute_result"
    }
   ],
   "source": [
    "BestRecommend(random_dict['person10'], random_dict,movies_person10,computeNearestNeighbor)  # manhattan "
   ]
  },
  {
   "cell_type": "code",
   "execution_count": 352,
   "id": "2609702b",
   "metadata": {},
   "outputs": [
    {
     "data": {
      "text/plain": [
       "('movie1', 4.3878756726744435)"
      ]
     },
     "execution_count": 352,
     "metadata": {},
     "output_type": "execute_result"
    }
   ],
   "source": [
    "BestRecommend(random_dict['person10'], random_dict,movies_person10,computeNearestNeighbor_movies)  # pearson  "
   ]
  },
  {
   "cell_type": "code",
   "execution_count": 353,
   "id": "3b08def6",
   "metadata": {},
   "outputs": [
    {
     "data": {
      "text/plain": [
       "('movie11', 4.327583550035867)"
      ]
     },
     "execution_count": 353,
     "metadata": {},
     "output_type": "execute_result"
    }
   ],
   "source": [
    "BestRecommend(random_dict['person10'], random_dict,movies_person10,computeNearestNeighbor_movies_cosine) #cosine "
   ]
  },
  {
   "cell_type": "markdown",
   "id": "7a621c96",
   "metadata": {},
   "source": [
    "## i would recommend \"movie11\" to person10 "
   ]
  },
  {
   "cell_type": "code",
   "execution_count": null,
   "id": "c0e7732d",
   "metadata": {},
   "outputs": [],
   "source": []
  }
 ],
 "metadata": {
  "kernelspec": {
   "display_name": "Python 3 (ipykernel)",
   "language": "python",
   "name": "python3"
  },
  "language_info": {
   "codemirror_mode": {
    "name": "ipython",
    "version": 3
   },
   "file_extension": ".py",
   "mimetype": "text/x-python",
   "name": "python",
   "nbconvert_exporter": "python",
   "pygments_lexer": "ipython3",
   "version": "3.8.13"
  }
 },
 "nbformat": 4,
 "nbformat_minor": 5
}
