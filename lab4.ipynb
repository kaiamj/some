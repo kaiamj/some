{
 "cells": [
  {
   "cell_type": "code",
   "execution_count": 12,
   "id": "e2fdb303",
   "metadata": {},
   "outputs": [],
   "source": [
    "import pandas as pd"
   ]
  },
  {
   "cell_type": "code",
   "execution_count": 13,
   "id": "18e6b7a9",
   "metadata": {},
   "outputs": [],
   "source": [
    "voters =[['a', 'b' , 'c' ,'d',5],\n",
    "        ['a', 'c', 'b','d',4],\n",
    "        ['d','b', 'a','c',2],\n",
    "        ['d' ,'b','c', 'a',6],\n",
    "        ['c', 'b', 'a','d',8],\n",
    "        ['d','c', 'b', 'a',2]]"
   ]
  },
  {
   "cell_type": "code",
   "execution_count": 225,
   "id": "5d2ff899",
   "metadata": {},
   "outputs": [],
   "source": [
    "df = pd.DataFrame(voters)"
   ]
  },
  {
   "cell_type": "code",
   "execution_count": 228,
   "id": "169dcd20",
   "metadata": {},
   "outputs": [
    {
     "data": {
      "text/html": [
       "<div>\n",
       "<style scoped>\n",
       "    .dataframe tbody tr th:only-of-type {\n",
       "        vertical-align: middle;\n",
       "    }\n",
       "\n",
       "    .dataframe tbody tr th {\n",
       "        vertical-align: top;\n",
       "    }\n",
       "\n",
       "    .dataframe thead th {\n",
       "        text-align: right;\n",
       "    }\n",
       "</style>\n",
       "<table border=\"1\" class=\"dataframe\">\n",
       "  <thead>\n",
       "    <tr style=\"text-align: right;\">\n",
       "      <th></th>\n",
       "      <th>0</th>\n",
       "      <th>1</th>\n",
       "      <th>2</th>\n",
       "      <th>3</th>\n",
       "      <th>4</th>\n",
       "    </tr>\n",
       "  </thead>\n",
       "  <tbody>\n",
       "    <tr>\n",
       "      <th>0</th>\n",
       "      <td>a</td>\n",
       "      <td>b</td>\n",
       "      <td>c</td>\n",
       "      <td>d</td>\n",
       "      <td>5</td>\n",
       "    </tr>\n",
       "    <tr>\n",
       "      <th>1</th>\n",
       "      <td>a</td>\n",
       "      <td>c</td>\n",
       "      <td>b</td>\n",
       "      <td>d</td>\n",
       "      <td>4</td>\n",
       "    </tr>\n",
       "    <tr>\n",
       "      <th>2</th>\n",
       "      <td>d</td>\n",
       "      <td>b</td>\n",
       "      <td>a</td>\n",
       "      <td>c</td>\n",
       "      <td>2</td>\n",
       "    </tr>\n",
       "    <tr>\n",
       "      <th>3</th>\n",
       "      <td>d</td>\n",
       "      <td>b</td>\n",
       "      <td>c</td>\n",
       "      <td>a</td>\n",
       "      <td>6</td>\n",
       "    </tr>\n",
       "    <tr>\n",
       "      <th>4</th>\n",
       "      <td>c</td>\n",
       "      <td>b</td>\n",
       "      <td>a</td>\n",
       "      <td>d</td>\n",
       "      <td>8</td>\n",
       "    </tr>\n",
       "    <tr>\n",
       "      <th>5</th>\n",
       "      <td>d</td>\n",
       "      <td>c</td>\n",
       "      <td>b</td>\n",
       "      <td>a</td>\n",
       "      <td>2</td>\n",
       "    </tr>\n",
       "  </tbody>\n",
       "</table>\n",
       "</div>"
      ],
      "text/plain": [
       "   0  1  2  3  4\n",
       "0  a  b  c  d  5\n",
       "1  a  c  b  d  4\n",
       "2  d  b  a  c  2\n",
       "3  d  b  c  a  6\n",
       "4  c  b  a  d  8\n",
       "5  d  c  b  a  2"
      ]
     },
     "execution_count": 228,
     "metadata": {},
     "output_type": "execute_result"
    }
   ],
   "source": [
    "df"
   ]
  },
  {
   "cell_type": "markdown",
   "id": "48861500",
   "metadata": {},
   "source": [
    "### task 1 & 2"
   ]
  },
  {
   "cell_type": "code",
   "execution_count": 168,
   "id": "6cc17df5",
   "metadata": {},
   "outputs": [],
   "source": [
    "# take first and last column, group by first column and sum last column\n",
    "# values and index of max value, return index\n",
    "def majority_Rule(df,n=df.columns[-1]):  # n is last column\n",
    "    return df[[0,n]].groupby(0).sum().idxmax(axis = 0).iloc[0]\n"
   ]
  },
  {
   "cell_type": "code",
   "execution_count": 270,
   "id": "31bcfc4d",
   "metadata": {},
   "outputs": [
    {
     "data": {
      "text/plain": [
       "'d'"
      ]
     },
     "execution_count": 270,
     "metadata": {},
     "output_type": "execute_result"
    }
   ],
   "source": [
    "majority_Rule(df)"
   ]
  },
  {
   "cell_type": "markdown",
   "id": "adb7b5d7",
   "metadata": {},
   "source": [
    "### task # 3"
   ]
  },
  {
   "cell_type": "code",
   "execution_count": 292,
   "id": "aed65de7",
   "metadata": {},
   "outputs": [],
   "source": [
    "def Plurality_runoff(df,lis):\n",
    "    dict_ = {lis[0]:0,lis[1]:0}\n",
    "    for i in range(0,len(df)):\n",
    "        first = df.loc[i][df.loc[i] == lis[0]]\n",
    "        second = df.loc[i][df.loc[i] == lis[1]]\n",
    "        #print(first.item(),\"--\",second.item(),\"--\",df.iloc[i,-1])\n",
    "        if first.index < second.index:\n",
    "            dict_[first.item()] += df.iloc[i,-1]\n",
    "        else:\n",
    "            dict_[second.item()] += df.iloc[i,-1]\n",
    "    #print(dict_) \n",
    "    return max(dict_, key=dict_.get)"
   ]
  },
  {
   "cell_type": "code",
   "execution_count": 274,
   "id": "a6f7a40b",
   "metadata": {},
   "outputs": [],
   "source": [
    "def get_list(df,n=df.columns[-1]):\n",
    "    return list(df[[0,n]].groupby(by=[0]).sum().sort_values(n,ascending=False).iloc[:2].index)"
   ]
  },
  {
   "cell_type": "code",
   "execution_count": 275,
   "id": "79d3e2d7",
   "metadata": {},
   "outputs": [],
   "source": [
    "lis = get_list(df)"
   ]
  },
  {
   "cell_type": "code",
   "execution_count": 276,
   "id": "d86da4e4",
   "metadata": {},
   "outputs": [
    {
     "data": {
      "text/plain": [
       "'a'"
      ]
     },
     "execution_count": 276,
     "metadata": {},
     "output_type": "execute_result"
    }
   ],
   "source": [
    "Plurality_runoff(df,lis)"
   ]
  },
  {
   "cell_type": "markdown",
   "id": "fa000471",
   "metadata": {},
   "source": [
    "### task # 4"
   ]
  },
  {
   "cell_type": "code",
   "execution_count": 284,
   "id": "56463183",
   "metadata": {},
   "outputs": [],
   "source": [
    "def Condorcet_Voting(df):\n",
    "    \n",
    "    lis = list(df.iloc[0].unique()[:-1]) # getting unique list of values \n",
    "    x = dict.fromkeys(lis, 0)\n",
    "    for i in range(0,len(lis)):\n",
    "        for j in range(i+1,len(lis)):\n",
    "            #print(\"============\",lis[i],lis[j],\"====\",Plurality_runoff(df,[lis[i],lis[j]]))\n",
    "            x[Plurality_runoff(df,[lis[i],lis[j]])] += 1  #checking (a>b) or (b>a) its returning a variable which is bigger and adding it to dictionary and increasing its value\n",
    "    return max(x, key=x.get)  # variable with highest value is winner \n",
    "            \n",
    "    "
   ]
  },
  {
   "cell_type": "code",
   "execution_count": 293,
   "id": "00b978c8",
   "metadata": {},
   "outputs": [
    {
     "data": {
      "text/plain": [
       "'c'"
      ]
     },
     "execution_count": 293,
     "metadata": {},
     "output_type": "execute_result"
    }
   ],
   "source": [
    "Condorcet_Voting(df)"
   ]
  },
  {
   "cell_type": "code",
   "execution_count": null,
   "id": "359ea2eb",
   "metadata": {},
   "outputs": [],
   "source": []
  },
  {
   "cell_type": "markdown",
   "id": "d4f81602",
   "metadata": {},
   "source": [
    "### task # 5"
   ]
  },
  {
   "cell_type": "code",
   "execution_count": 256,
   "id": "dd2b5c85",
   "metadata": {},
   "outputs": [],
   "source": [
    "def BordaVoting(df):\n",
    "    lis = list(df.iloc[0].unique()[:-1]) # getting unique list of values \n",
    "    x = dict.fromkeys(lis, 0)\n",
    "    for i in range(0,len(df)):\n",
    "        for j in range(0,len(df.columns)-1):\n",
    "            x[df.iloc[i,j]] += (df.iloc[i,-1] * j)  # number of voters * increasing order\n",
    "            \n",
    "            #df.iloc[i,-1] # last value ==> number of voters , \n",
    "    return min(x, key=x.get)    # minimum value is winner     "
   ]
  },
  {
   "cell_type": "code",
   "execution_count": 258,
   "id": "66eb32c8",
   "metadata": {},
   "outputs": [
    {
     "data": {
      "text/plain": [
       "'b'"
      ]
     },
     "execution_count": 258,
     "metadata": {},
     "output_type": "execute_result"
    }
   ],
   "source": [
    "BordaVoting(df)"
   ]
  },
  {
   "cell_type": "code",
   "execution_count": null,
   "id": "3f3bfc90",
   "metadata": {},
   "outputs": [],
   "source": []
  },
  {
   "cell_type": "markdown",
   "id": "95e1ba59",
   "metadata": {},
   "source": [
    "### task # 6"
   ]
  },
  {
   "cell_type": "code",
   "execution_count": 286,
   "id": "95e255a0",
   "metadata": {},
   "outputs": [],
   "source": [
    "voters1 =[['a', 'b' , 'c' ,'d','e','f',20],\n",
    "        ['a', 'c', 'b','d','f','e',8],\n",
    "        ['e','f','d','b', 'a','c',2],\n",
    "        ['d' ,'b','e','c', 'f','a',6],\n",
    "        ['e','c', 'b', 'a','d','f',2],\n",
    "        ['d','e','c', 'b','f', 'a',2]]"
   ]
  },
  {
   "cell_type": "code",
   "execution_count": 287,
   "id": "d71a8c44",
   "metadata": {},
   "outputs": [],
   "source": [
    "df1 = pd.DataFrame(voters1)"
   ]
  },
  {
   "cell_type": "code",
   "execution_count": 288,
   "id": "7742eb58",
   "metadata": {},
   "outputs": [
    {
     "data": {
      "text/plain": [
       "'a'"
      ]
     },
     "execution_count": 288,
     "metadata": {},
     "output_type": "execute_result"
    }
   ],
   "source": [
    "majority_Rule(df1,df1.columns[-1])"
   ]
  },
  {
   "cell_type": "code",
   "execution_count": 289,
   "id": "8d31d913",
   "metadata": {},
   "outputs": [],
   "source": [
    "lis1 = get_list(df1,df1.columns[-1])"
   ]
  },
  {
   "cell_type": "code",
   "execution_count": 294,
   "id": "8a487d0a",
   "metadata": {},
   "outputs": [
    {
     "data": {
      "text/plain": [
       "'a'"
      ]
     },
     "execution_count": 294,
     "metadata": {},
     "output_type": "execute_result"
    }
   ],
   "source": [
    "Plurality_runoff(df1,lis1)"
   ]
  },
  {
   "cell_type": "code",
   "execution_count": 295,
   "id": "5ff8edcf",
   "metadata": {},
   "outputs": [
    {
     "data": {
      "text/plain": [
       "'a'"
      ]
     },
     "execution_count": 295,
     "metadata": {},
     "output_type": "execute_result"
    }
   ],
   "source": [
    "Condorcet_Voting(df1)"
   ]
  },
  {
   "cell_type": "code",
   "execution_count": 296,
   "id": "4b8e1f70",
   "metadata": {
    "scrolled": true
   },
   "outputs": [
    {
     "data": {
      "text/plain": [
       "'a'"
      ]
     },
     "execution_count": 296,
     "metadata": {},
     "output_type": "execute_result"
    }
   ],
   "source": [
    "BordaVoting(df1)"
   ]
  },
  {
   "cell_type": "code",
   "execution_count": null,
   "id": "f318061a",
   "metadata": {},
   "outputs": [],
   "source": []
  },
  {
   "cell_type": "markdown",
   "id": "0cc86097",
   "metadata": {},
   "source": [
    "### task # 7"
   ]
  },
  {
   "cell_type": "code",
   "execution_count": 297,
   "id": "935aed51",
   "metadata": {},
   "outputs": [],
   "source": [
    "voters2 =[['a', 'b' , 'c' ,'d','e','f',20],\n",
    "        ['a', 'c', 'b','d','f','e',2],\n",
    "        ['e','f','d','b', 'a','c',2],\n",
    "        ['d' ,'b','e','c', 'f','a',6],\n",
    "        ['e','c', 'b', 'a','d','f',2],\n",
    "        ['d','e','c', 'b','f', 'a',8]]"
   ]
  },
  {
   "cell_type": "code",
   "execution_count": null,
   "id": "058f875e",
   "metadata": {},
   "outputs": [],
   "source": []
  },
  {
   "cell_type": "code",
   "execution_count": 298,
   "id": "421e34ba",
   "metadata": {},
   "outputs": [],
   "source": [
    "df2 = pd.DataFrame(voters2)"
   ]
  },
  {
   "cell_type": "code",
   "execution_count": 299,
   "id": "9ff03043",
   "metadata": {},
   "outputs": [
    {
     "data": {
      "text/plain": [
       "'a'"
      ]
     },
     "execution_count": 299,
     "metadata": {},
     "output_type": "execute_result"
    }
   ],
   "source": [
    "majority_Rule(df2,df2.columns[-1])"
   ]
  },
  {
   "cell_type": "code",
   "execution_count": 301,
   "id": "eb651189",
   "metadata": {},
   "outputs": [],
   "source": [
    "lis2 = get_list(df2,df2.columns[-1])"
   ]
  },
  {
   "cell_type": "code",
   "execution_count": 302,
   "id": "7e1d6be9",
   "metadata": {},
   "outputs": [
    {
     "data": {
      "text/plain": [
       "'a'"
      ]
     },
     "execution_count": 302,
     "metadata": {},
     "output_type": "execute_result"
    }
   ],
   "source": [
    "Plurality_runoff(df2,lis2)"
   ]
  },
  {
   "cell_type": "code",
   "execution_count": 303,
   "id": "107a66eb",
   "metadata": {},
   "outputs": [
    {
     "data": {
      "text/plain": [
       "'a'"
      ]
     },
     "execution_count": 303,
     "metadata": {},
     "output_type": "execute_result"
    }
   ],
   "source": [
    "Condorcet_Voting(df2)"
   ]
  },
  {
   "cell_type": "code",
   "execution_count": 304,
   "id": "afd6dfdb",
   "metadata": {},
   "outputs": [
    {
     "data": {
      "text/plain": [
       "'b'"
      ]
     },
     "execution_count": 304,
     "metadata": {},
     "output_type": "execute_result"
    }
   ],
   "source": [
    "BordaVoting(df2)"
   ]
  },
  {
   "cell_type": "code",
   "execution_count": null,
   "id": "2ed21670",
   "metadata": {},
   "outputs": [],
   "source": []
  }
 ],
 "metadata": {
  "kernelspec": {
   "display_name": "Python 3 (ipykernel)",
   "language": "python",
   "name": "python3"
  },
  "language_info": {
   "codemirror_mode": {
    "name": "ipython",
    "version": 3
   },
   "file_extension": ".py",
   "mimetype": "text/x-python",
   "name": "python",
   "nbconvert_exporter": "python",
   "pygments_lexer": "ipython3",
   "version": "3.8.13"
  }
 },
 "nbformat": 4,
 "nbformat_minor": 5
}
